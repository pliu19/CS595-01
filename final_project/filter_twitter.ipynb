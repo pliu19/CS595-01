{
 "cells": [
  {
   "cell_type": "code",
   "execution_count": 2,
   "metadata": {
    "collapsed": true
   },
   "outputs": [],
   "source": [
    "import numpy as np\n",
    "\n",
    "import json"
   ]
  },
  {
   "cell_type": "code",
   "execution_count": 4,
   "metadata": {
    "collapsed": false
   },
   "outputs": [],
   "source": [
    "with open(\"result.json\", \"r\", encoding=\"utf8\") as f:\n",
    "    twitters = json.load(f)"
   ]
  },
  {
   "cell_type": "code",
   "execution_count": 5,
   "metadata": {
    "collapsed": false
   },
   "outputs": [
    {
     "data": {
      "text/plain": [
       "1291"
      ]
     },
     "execution_count": 5,
     "metadata": {},
     "output_type": "execute_result"
    }
   ],
   "source": [
    "len(twitters)"
   ]
  },
  {
   "cell_type": "code",
   "execution_count": 12,
   "metadata": {
    "collapsed": false
   },
   "outputs": [
    {
     "data": {
      "text/plain": [
       "['V/H/S', 'American Mary']"
      ]
     },
     "execution_count": 12,
     "metadata": {},
     "output_type": "execute_result"
    }
   ],
   "source": [
    "list(twitters.keys())[:2]"
   ]
  },
  {
   "cell_type": "code",
   "execution_count": 13,
   "metadata": {
    "collapsed": false
   },
   "outputs": [
    {
     "name": "stdout",
     "output_type": "stream",
     "text": [
      "V/H/S {'place': None, 'user': {'profile_text_color': '333333', 'description': 'Sports fan, support all North TX teams! MMA fan. Diaz vs Conor 3! Oh I hope liberals, democrats & the Senate burn in hell! Trump kicks ass!', 'verified': False, 'notifications': False, 'profile_use_background_image': True, 'profile_image_url_https': 'https://pbs.twimg.com/profile_images/673949938196152321/cIZtiBjF_normal.jpg', 'is_translator': False, 'protected': False, 'utc_offset': -21600, 'friends_count': 601, 'profile_background_color': 'C0DEED', 'url': None, 'is_translation_enabled': False, 'screen_name': 'mavs2011champs0', 'favourites_count': 26497, 'has_extended_profile': True, 'created_at': 'Tue Jul 19 10:19:30 +0000 2011', 'id_str': '338278043', 'location': 'Burleson, TX', 'profile_sidebar_border_color': 'C0DEED', 'follow_request_sent': False, 'followers_count': 560, 'statuses_count': 78818, 'time_zone': 'Central Time (US & Canada)', 'geo_enabled': True, 'default_profile_image': False, 'listed_count': 49, 'translator_type': 'none', 'contributors_enabled': False, 'profile_sidebar_fill_color': 'DDEEF6', 'lang': 'en', 'profile_background_image_url': 'http://abs.twimg.com/images/themes/theme1/bg.png', 'id': 338278043, 'profile_link_color': '1DA1F2', 'profile_background_tile': False, 'profile_background_image_url_https': 'https://abs.twimg.com/images/themes/theme1/bg.png', 'default_profile': True, 'following': False, 'entities': {'description': {'urls': []}}, 'profile_image_url': 'http://pbs.twimg.com/profile_images/673949938196152321/cIZtiBjF_normal.jpg', 'name': 'Ryan'}, 'is_quote_status': False, 'truncated': True, 'coordinates': None, 'text': '@MMAFighting @NateDiaz209 Conor isnt coming back for a while if at all! Why not make 50-100M boxing??? Now look at… https://t.co/iBox8urQNn', 'geo': None, 'lang': 'en', 'source': '<a href=\"http://twitter.com\" rel=\"nofollow\">Twitter Web Client</a>', 'retweeted': False, 'created_at': 'Thu Nov 23 20:52:55 +0000 2017', 'favorite_count': 0, 'retweet_count': 0, 'in_reply_to_user_id': 17764377, 'in_reply_to_user_id_str': '17764377', 'in_reply_to_status_id': 933711957160538112, 'metadata': {'result_type': 'recent', 'iso_language_code': 'en'}, 'in_reply_to_status_id_str': '933711957160538112', 'in_reply_to_screen_name': 'MMAFighting', 'id': 933800551753637906, 'id_str': '933800551753637906', 'contributors': None, 'entities': {'user_mentions': [{'id': 17764377, 'screen_name': 'MMAFighting', 'indices': [0, 12], 'id_str': '17764377', 'name': 'MMAFighting.com'}, {'id': 52181976, 'screen_name': 'NateDiaz209', 'indices': [13, 25], 'id_str': '52181976', 'name': 'Nathan Diaz'}], 'symbols': [], 'hashtags': [], 'urls': [{'display_url': 'twitter.com/i/web/status/9…', 'url': 'https://t.co/iBox8urQNn', 'indices': [116, 139], 'expanded_url': 'https://twitter.com/i/web/status/933800551753637906'}]}, 'favorited': False}\n"
     ]
    }
   ],
   "source": [
    "for key, value in twitters.items():\n",
    "    print(key, value[2])\n",
    "    break"
   ]
  },
  {
   "cell_type": "code",
   "execution_count": null,
   "metadata": {
    "collapsed": true
   },
   "outputs": [],
   "source": []
  }
 ],
 "metadata": {
  "anaconda-cloud": {},
  "kernelspec": {
   "display_name": "Python [conda root]",
   "language": "python",
   "name": "conda-root-py"
  },
  "language_info": {
   "codemirror_mode": {
    "name": "ipython",
    "version": 3
   },
   "file_extension": ".py",
   "mimetype": "text/x-python",
   "name": "python",
   "nbconvert_exporter": "python",
   "pygments_lexer": "ipython3",
   "version": "3.5.2"
  }
 },
 "nbformat": 4,
 "nbformat_minor": 1
}
