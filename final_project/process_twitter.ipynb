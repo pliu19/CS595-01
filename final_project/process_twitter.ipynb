{
 "cells": [
  {
   "cell_type": "code",
   "execution_count": 1,
   "metadata": {
    "collapsed": true
   },
   "outputs": [],
   "source": [
    "import json\n",
    "\n",
    "import numpy as np\n",
    "\n",
    "import pandas as pd"
   ]
  },
  {
   "cell_type": "code",
   "execution_count": 2,
   "metadata": {
    "collapsed": true
   },
   "outputs": [],
   "source": [
    "with open(\"result.json\", \"r\", encoding=\"utf8\") as f:\n",
    "    \n",
    "    twitters = json.load(f)"
   ]
  },
  {
   "cell_type": "code",
   "execution_count": 5,
   "metadata": {
    "collapsed": false
   },
   "outputs": [
    {
     "data": {
      "text/plain": [
       "1291"
      ]
     },
     "execution_count": 5,
     "metadata": {},
     "output_type": "execute_result"
    }
   ],
   "source": [
    "key_movies = list(twitters.keys())\n",
    "\n",
    "len(key_movies)"
   ]
  },
  {
   "cell_type": "code",
   "execution_count": 2,
   "metadata": {
    "collapsed": false
   },
   "outputs": [
    {
     "data": {
      "text/html": [
       "<div>\n",
       "<style>\n",
       "    .dataframe thead tr:only-child th {\n",
       "        text-align: right;\n",
       "    }\n",
       "\n",
       "    .dataframe thead th {\n",
       "        text-align: left;\n",
       "    }\n",
       "\n",
       "    .dataframe tbody tr th {\n",
       "        vertical-align: top;\n",
       "    }\n",
       "</style>\n",
       "<table border=\"1\" class=\"dataframe\">\n",
       "  <thead>\n",
       "    <tr style=\"text-align: right;\">\n",
       "      <th></th>\n",
       "      <th>movieId</th>\n",
       "      <th>title</th>\n",
       "      <th>genres</th>\n",
       "    </tr>\n",
       "  </thead>\n",
       "  <tbody>\n",
       "    <tr>\n",
       "      <th>0</th>\n",
       "      <td>1</td>\n",
       "      <td>Toy Story (1995)</td>\n",
       "      <td>Adventure|Animation|Children|Comedy|Fantasy</td>\n",
       "    </tr>\n",
       "    <tr>\n",
       "      <th>1</th>\n",
       "      <td>2</td>\n",
       "      <td>Jumanji (1995)</td>\n",
       "      <td>Adventure|Children|Fantasy</td>\n",
       "    </tr>\n",
       "    <tr>\n",
       "      <th>2</th>\n",
       "      <td>3</td>\n",
       "      <td>Grumpier Old Men (1995)</td>\n",
       "      <td>Comedy|Romance</td>\n",
       "    </tr>\n",
       "    <tr>\n",
       "      <th>3</th>\n",
       "      <td>4</td>\n",
       "      <td>Waiting to Exhale (1995)</td>\n",
       "      <td>Comedy|Drama|Romance</td>\n",
       "    </tr>\n",
       "    <tr>\n",
       "      <th>4</th>\n",
       "      <td>5</td>\n",
       "      <td>Father of the Bride Part II (1995)</td>\n",
       "      <td>Comedy</td>\n",
       "    </tr>\n",
       "  </tbody>\n",
       "</table>\n",
       "</div>"
      ],
      "text/plain": [
       "   movieId                               title  \\\n",
       "0        1                    Toy Story (1995)   \n",
       "1        2                      Jumanji (1995)   \n",
       "2        3             Grumpier Old Men (1995)   \n",
       "3        4            Waiting to Exhale (1995)   \n",
       "4        5  Father of the Bride Part II (1995)   \n",
       "\n",
       "                                        genres  \n",
       "0  Adventure|Animation|Children|Comedy|Fantasy  \n",
       "1                   Adventure|Children|Fantasy  \n",
       "2                               Comedy|Romance  \n",
       "3                         Comedy|Drama|Romance  \n",
       "4                                       Comedy  "
      ]
     },
     "execution_count": 2,
     "metadata": {},
     "output_type": "execute_result"
    }
   ],
   "source": [
    "movies_original = \"./ml-latest-small/movies.csv\"\n",
    "\n",
    "movies_info = pd.read_csv(movies_original)\n",
    "\n",
    "movies_info[:5]"
   ]
  },
  {
   "cell_type": "code",
   "execution_count": 34,
   "metadata": {
    "collapsed": true
   },
   "outputs": [],
   "source": [
    "genres = ['Action', 'Adventure', 'Animation', 'Children', 'Comedy', 'Crime', 'Documentary',\n",
    "          'Drama', 'Fantasy', 'Film-Noir', 'Horror', 'Musical', 'Mystery', 'Romance', 'Sci-Fi',\n",
    "          'Thriller', 'War', 'Western', 'IMAX']\n",
    "\n",
    "classcify_movies = {}\n",
    "\n",
    "for gr in genres:\n",
    "    classcify_movies[gr] = []"
   ]
  },
  {
   "cell_type": "code",
   "execution_count": 35,
   "metadata": {
    "collapsed": false
   },
   "outputs": [
    {
     "data": {
      "text/plain": [
       "dict_keys(['Comedy', 'Children', 'Sci-Fi', 'Drama', 'Fantasy', 'Animation', 'Horror', 'Crime', 'War', 'IMAX', 'Musical', 'Documentary', 'Adventure', 'Mystery', 'Romance', 'Thriller', 'Action', 'Western', 'Film-Noir'])"
      ]
     },
     "execution_count": 35,
     "metadata": {},
     "output_type": "execute_result"
    }
   ],
   "source": [
    "classcify_movies.keys()"
   ]
  },
  {
   "cell_type": "code",
   "execution_count": 36,
   "metadata": {
    "collapsed": false
   },
   "outputs": [
    {
     "name": "stdout",
     "output_type": "stream",
     "text": [
      "(9125, 3)\n"
     ]
    }
   ],
   "source": [
    "print(movies_info.shape)"
   ]
  },
  {
   "cell_type": "code",
   "execution_count": 37,
   "metadata": {
    "collapsed": false
   },
   "outputs": [],
   "source": [
    "movies_info = np.array(movies_info)\n",
    "\n",
    "not_g = []\n",
    "\n",
    "movie_id = {}\n",
    "\n",
    "for movie in movies_info:\n",
    "    \n",
    "    id_, title_info, gerens_ = movie\n",
    "            \n",
    "    info_list = title_info.split('(') \n",
    "    \n",
    "    if len(info_list) == 2:\n",
    "        \n",
    "        title, year = info_list\n",
    "        title = title.rstrip()\n",
    "        \n",
    "        if title in key_movies:\n",
    "            \n",
    "            movie_id[title] = id_\n",
    "            \n",
    "            for g in gerens_.split('|'):\n",
    "                if g in classcify_movies:\n",
    "                    classcify_movies[g].append(title)\n",
    "                else:\n",
    "                    not_g.append(g)"
   ]
  },
  {
   "cell_type": "code",
   "execution_count": 38,
   "metadata": {
    "collapsed": false
   },
   "outputs": [],
   "source": [
    "result = []\n",
    "for key, value in classcify_movies.items():\n",
    "    result.extend(value)"
   ]
  },
  {
   "cell_type": "code",
   "execution_count": 39,
   "metadata": {
    "collapsed": false
   },
   "outputs": [
    {
     "data": {
      "text/plain": [
       "1280"
      ]
     },
     "execution_count": 39,
     "metadata": {},
     "output_type": "execute_result"
    }
   ],
   "source": [
    "len(set(result))"
   ]
  },
  {
   "cell_type": "code",
   "execution_count": 40,
   "metadata": {
    "collapsed": true
   },
   "outputs": [],
   "source": [
    "import json\n",
    "with open('moviefilters.json', 'w', encoding=\"utf8\") as outfile:\n",
    "    json.dump(classcify_movies, outfile)"
   ]
  },
  {
   "cell_type": "code",
   "execution_count": 41,
   "metadata": {
    "collapsed": false
   },
   "outputs": [
    {
     "data": {
      "text/plain": [
       "1291"
      ]
     },
     "execution_count": 41,
     "metadata": {},
     "output_type": "execute_result"
    }
   ],
   "source": [
    "# title to id \n",
    "\n",
    "len(movie_id)"
   ]
  },
  {
   "cell_type": "code",
   "execution_count": 43,
   "metadata": {
    "collapsed": false
   },
   "outputs": [],
   "source": [
    "# id to title and average rating \n",
    "\n",
    "movies_aggregate_info = {}\n",
    "\n",
    "for key, value in movie_id.items():\n",
    "    \n",
    "    temp_dict = {}\n",
    "    \n",
    "    temp_dict['id'] = key\n",
    "    temp_dict['rating_sum'] = 0\n",
    "    temp_dict['rating_cnt'] = 0\n",
    "    \n",
    "    movies_aggregate_info[value] = temp_dict"
   ]
  },
  {
   "cell_type": "code",
   "execution_count": 44,
   "metadata": {
    "collapsed": false
   },
   "outputs": [
    {
     "name": "stdout",
     "output_type": "stream",
     "text": [
      "122882 {'id': 'Mad Max: Fury Road', 'rating_cnt': 0, 'rating_sum': 0}\n"
     ]
    }
   ],
   "source": [
    "for key, value in movies_aggregate_info.items():\n",
    "    print(key, value)\n",
    "    break"
   ]
  },
  {
   "cell_type": "code",
   "execution_count": 46,
   "metadata": {
    "collapsed": false
   },
   "outputs": [
    {
     "data": {
      "text/html": [
       "<div>\n",
       "<style>\n",
       "    .dataframe thead tr:only-child th {\n",
       "        text-align: right;\n",
       "    }\n",
       "\n",
       "    .dataframe thead th {\n",
       "        text-align: left;\n",
       "    }\n",
       "\n",
       "    .dataframe tbody tr th {\n",
       "        vertical-align: top;\n",
       "    }\n",
       "</style>\n",
       "<table border=\"1\" class=\"dataframe\">\n",
       "  <thead>\n",
       "    <tr style=\"text-align: right;\">\n",
       "      <th></th>\n",
       "      <th>userId</th>\n",
       "      <th>movieId</th>\n",
       "      <th>rating</th>\n",
       "      <th>timestamp</th>\n",
       "    </tr>\n",
       "  </thead>\n",
       "  <tbody>\n",
       "    <tr>\n",
       "      <th>0</th>\n",
       "      <td>1</td>\n",
       "      <td>31</td>\n",
       "      <td>2.5</td>\n",
       "      <td>1260759144</td>\n",
       "    </tr>\n",
       "    <tr>\n",
       "      <th>1</th>\n",
       "      <td>1</td>\n",
       "      <td>1029</td>\n",
       "      <td>3.0</td>\n",
       "      <td>1260759179</td>\n",
       "    </tr>\n",
       "    <tr>\n",
       "      <th>2</th>\n",
       "      <td>1</td>\n",
       "      <td>1061</td>\n",
       "      <td>3.0</td>\n",
       "      <td>1260759182</td>\n",
       "    </tr>\n",
       "    <tr>\n",
       "      <th>3</th>\n",
       "      <td>1</td>\n",
       "      <td>1129</td>\n",
       "      <td>2.0</td>\n",
       "      <td>1260759185</td>\n",
       "    </tr>\n",
       "    <tr>\n",
       "      <th>4</th>\n",
       "      <td>1</td>\n",
       "      <td>1172</td>\n",
       "      <td>4.0</td>\n",
       "      <td>1260759205</td>\n",
       "    </tr>\n",
       "  </tbody>\n",
       "</table>\n",
       "</div>"
      ],
      "text/plain": [
       "   userId  movieId  rating   timestamp\n",
       "0       1       31     2.5  1260759144\n",
       "1       1     1029     3.0  1260759179\n",
       "2       1     1061     3.0  1260759182\n",
       "3       1     1129     2.0  1260759185\n",
       "4       1     1172     4.0  1260759205"
      ]
     },
     "execution_count": 46,
     "metadata": {},
     "output_type": "execute_result"
    }
   ],
   "source": [
    "rating_file = \"./ml-latest-small/ratings.csv\"\n",
    "\n",
    "rating_data = pd.read_csv(rating_file)\n",
    "\n",
    "rating_data[:5]"
   ]
  },
  {
   "cell_type": "code",
   "execution_count": 48,
   "metadata": {
    "collapsed": true
   },
   "outputs": [],
   "source": [
    "rating_data = np.array(rating_data)\n",
    "\n",
    "for row in rating_data:\n",
    "    userid, movieid, rating, ts = row\n",
    "    \n",
    "    if movieid in movies_aggregate_info:\n",
    "        movies_aggregate_info[movieid]['rating_cnt'] += 1\n",
    "        movies_aggregate_info[movieid]['rating_sum'] += rating"
   ]
  },
  {
   "cell_type": "code",
   "execution_count": 51,
   "metadata": {
    "collapsed": false
   },
   "outputs": [],
   "source": [
    "for key, value in movies_aggregate_info.items():\n",
    "    if movies_aggregate_info[key]['rating_cnt'] != 0:\n",
    "        movies_aggregate_info[key]['rating_ave'] = movies_aggregate_info[key]['rating_sum']/movies_aggregate_info[key]['rating_cnt']\n",
    "    else:\n",
    "        movies_aggregate_info[key]['rating_ave'] = 0"
   ]
  },
  {
   "cell_type": "code",
   "execution_count": 53,
   "metadata": {
    "collapsed": true
   },
   "outputs": [],
   "source": [
    "new_movies_aggregate_info = {}\n",
    "\n",
    "for key, value in movies_aggregate_info.items():\n",
    "    title = value['id']\n",
    "    id_ = key\n",
    "    value['id'] = id_\n",
    "    new_movies_aggregate_info[title] = value"
   ]
  },
  {
   "cell_type": "code",
   "execution_count": null,
   "metadata": {
    "collapsed": true
   },
   "outputs": [],
   "source": []
  },
  {
   "cell_type": "code",
   "execution_count": null,
   "metadata": {
    "collapsed": true
   },
   "outputs": [],
   "source": []
  },
  {
   "cell_type": "code",
   "execution_count": 54,
   "metadata": {
    "collapsed": true
   },
   "outputs": [],
   "source": [
    "import json\n",
    "with open('movie_infor.json', 'w', encoding=\"utf8\") as outfile:\n",
    "    json.dump(new_movies_aggregate_info, outfile)"
   ]
  },
  {
   "cell_type": "code",
   "execution_count": 55,
   "metadata": {
    "collapsed": false
   },
   "outputs": [
    {
     "name": "stdout",
     "output_type": "stream",
     "text": [
      "Kung Fu Panda 2 {'id': 87222, 'rating_cnt': 6, 'rating_sum': 23.0, 'rating_ave': 3.8333333333333335}\n",
      "Foxcatcher {'id': 116161, 'rating_cnt': 3, 'rating_sum': 8.0, 'rating_ave': 2.6666666666666665}\n",
      "Your Highness {'id': 87529, 'rating_cnt': 3, 'rating_sum': 4.0, 'rating_ave': 1.3333333333333333}\n",
      "Fair Game {'id': 81641, 'rating_cnt': 1, 'rating_sum': 3.5, 'rating_ave': 3.5}\n",
      "The Theory of Everything {'id': 117176, 'rating_cnt': 12, 'rating_sum': 44.0, 'rating_ave': 3.6666666666666665}\n",
      "Real Steel {'id': 90249, 'rating_cnt': 3, 'rating_sum': 9.0, 'rating_ave': 3.0}\n",
      "Charlie St. Cloud {'id': 79588, 'rating_cnt': 1, 'rating_sum': 3.5, 'rating_ave': 3.5}\n",
      "Maximum Conviction {'id': 99320, 'rating_cnt': 1, 'rating_sum': 2.0, 'rating_ave': 2.0}\n",
      "Finding Dory {'id': 157296, 'rating_cnt': 3, 'rating_sum': 10.0, 'rating_ave': 3.3333333333333335}\n",
      "Water for Elephants {'id': 86548, 'rating_cnt': 2, 'rating_sum': 8.5, 'rating_ave': 4.25}\n",
      "Incredible Burt Wonderstone, The {'id': 101283, 'rating_cnt': 1, 'rating_sum': 2.5, 'rating_ave': 2.5}\n",
      "The Possession of Michael King {'id': 116503, 'rating_cnt': 1, 'rating_sum': 1.5, 'rating_ave': 1.5}\n",
      "Bill Cunningham New York {'id': 89090, 'rating_cnt': 1, 'rating_sum': 1.5, 'rating_ave': 1.5}\n",
      "Apartment 143 {'id': 96634, 'rating_cnt': 1, 'rating_sum': 1.0, 'rating_ave': 1.0}\n",
      "The DUFF {'id': 126548, 'rating_cnt': 1, 'rating_sum': 3.0, 'rating_ave': 3.0}\n",
      "Battle: Los Angeles {'id': 85131, 'rating_cnt': 8, 'rating_sum': 18.5, 'rating_ave': 2.3125}\n",
      "Big Eyes {'id': 118985, 'rating_cnt': 2, 'rating_sum': 6.5, 'rating_ave': 3.25}\n",
      "Best of Enemies {'id': 139757, 'rating_cnt': 2, 'rating_sum': 8.5, 'rating_ave': 4.25}\n",
      "Larry Crowne {'id': 87522, 'rating_cnt': 2, 'rating_sum': 5.5, 'rating_ave': 2.75}\n",
      "People, Places, Things {'id': 127206, 'rating_cnt': 1, 'rating_sum': 2.0, 'rating_ave': 2.0}\n",
      "Louis C.K.: Live at the Beacon Theater {'id': 92535, 'rating_cnt': 5, 'rating_sum': 22.5, 'rating_ave': 4.5}\n",
      "Sound of Noise {'id': 94939, 'rating_cnt': 1, 'rating_sum': 4.5, 'rating_ave': 4.5}\n",
      "Cleanskin {'id': 95508, 'rating_cnt': 1, 'rating_sum': 3.5, 'rating_ave': 3.5}\n",
      "The D Train {'id': 127194, 'rating_cnt': 1, 'rating_sum': 2.0, 'rating_ave': 2.0}\n",
      "Mr. Peabody & Sherman {'id': 109846, 'rating_cnt': 1, 'rating_sum': 3.0, 'rating_ave': 3.0}\n",
      "Shin Godzilla {'id': 163056, 'rating_cnt': 0, 'rating_sum': 0, 'rating_ave': 0}\n",
      "Leap Year {'id': 73319, 'rating_cnt': 2, 'rating_sum': 6.0, 'rating_ave': 3.0}\n",
      "Undefeated {'id': 93324, 'rating_cnt': 1, 'rating_sum': 5.0, 'rating_ave': 5.0}\n",
      "Avengers: Age of Ultron {'id': 122892, 'rating_cnt': 13, 'rating_sum': 50.5, 'rating_ave': 3.8846153846153846}\n",
      "The Skeleton Twins {'id': 114074, 'rating_cnt': 4, 'rating_sum': 12.0, 'rating_ave': 3.0}\n",
      "Family Band: The Cowsills Story {'id': 104595, 'rating_cnt': 1, 'rating_sum': 4.0, 'rating_ave': 4.0}\n",
      "Paranormal Activity: The Marked Ones {'id': 107769, 'rating_cnt': 1, 'rating_sum': 2.5, 'rating_ave': 2.5}\n",
      "Two Escobars, The {'id': 79677, 'rating_cnt': 1, 'rating_sum': 5.0, 'rating_ave': 5.0}\n",
      "Side Effects {'id': 100383, 'rating_cnt': 8, 'rating_sum': 28.0, 'rating_ave': 3.5}\n",
      "Mama {'id': 99912, 'rating_cnt': 1, 'rating_sum': 2.5, 'rating_ave': 2.5}\n",
      "West of Memphis {'id': 97395, 'rating_cnt': 1, 'rating_sum': 4.0, 'rating_ave': 4.0}\n",
      "Final Destination 5 {'id': 88932, 'rating_cnt': 1, 'rating_sum': 1.0, 'rating_ave': 1.0}\n",
      "Bachelorette {'id': 96565, 'rating_cnt': 1, 'rating_sum': 1.5, 'rating_ave': 1.5}\n",
      "Giver, The {'id': 113378, 'rating_cnt': 3, 'rating_sum': 6.5, 'rating_ave': 2.1666666666666665}\n",
      "Bad Asses on the Bayou {'id': 136816, 'rating_cnt': 1, 'rating_sum': 2.5, 'rating_ave': 2.5}\n",
      "Despicable Me 2 {'id': 103335, 'rating_cnt': 8, 'rating_sum': 27.0, 'rating_ave': 3.375}\n",
      "Hot Tub Time Machine {'id': 76077, 'rating_cnt': 10, 'rating_sum': 30.0, 'rating_ave': 3.0}\n",
      "Under the Skin {'id': 109848, 'rating_cnt': 6, 'rating_sum': 19.0, 'rating_ave': 3.1666666666666665}\n",
      "Felony {'id': 113186, 'rating_cnt': 1, 'rating_sum': 3.0, 'rating_ave': 3.0}\n",
      "Girl Model {'id': 100034, 'rating_cnt': 1, 'rating_sum': 4.0, 'rating_ave': 4.0}\n",
      "Crystal Fairy & the Magical Cactus and 2012 {'id': 105254, 'rating_cnt': 1, 'rating_sum': 3.0, 'rating_ave': 3.0}\n",
      "Song of the Sea {'id': 117444, 'rating_cnt': 2, 'rating_sum': 7.5, 'rating_ave': 3.75}\n",
      "Beginners {'id': 87304, 'rating_cnt': 3, 'rating_sum': 9.0, 'rating_ave': 3.0}\n",
      "İtirazım Var {'id': 147426, 'rating_cnt': 1, 'rating_sum': 3.5, 'rating_ave': 3.5}\n",
      "Paper Towns {'id': 128512, 'rating_cnt': 2, 'rating_sum': 7.0, 'rating_ave': 3.5}\n"
     ]
    }
   ],
   "source": [
    "count = 0 \n",
    "\n",
    "for key, value in new_movies_aggregate_info.items():\n",
    "    \n",
    "    count += 1\n",
    "    \n",
    "    if count == 50:\n",
    "        break"
   ]
  },
  {
   "cell_type": "code",
   "execution_count": 1,
   "metadata": {
    "collapsed": true
   },
   "outputs": [],
   "source": [
    "import json\n",
    "\n",
    "import numpy as np\n",
    "\n",
    "import pandas as pd"
   ]
  },
  {
   "cell_type": "code",
   "execution_count": 2,
   "metadata": {
    "collapsed": false
   },
   "outputs": [
    {
     "name": "stdout",
     "output_type": "stream",
     "text": [
      "The Dressmaker\n",
      "{'rating_cnt': 1, 'rating_sum': 3.0, 'id': 145150, 'rating_ave': 3.0}\n"
     ]
    }
   ],
   "source": [
    "# 1129\n",
    "\n",
    "file_movie_infor = \"./website/resource/movie_infor.json\"\n",
    "\n",
    "with open(file_movie_infor, 'r', encoding=\"utf8\") as f:\n",
    "    \n",
    "    movie_infor_self = json.load(f, encoding=\"utf8\")\n",
    "    \n",
    "for key, value in movie_infor_self.items():\n",
    "    print(key)\n",
    "    print(value)\n",
    "    break"
   ]
  },
  {
   "cell_type": "code",
   "execution_count": 3,
   "metadata": {
    "collapsed": false
   },
   "outputs": [
    {
     "name": "stdout",
     "output_type": "stream",
     "text": [
      "1291\n"
     ]
    }
   ],
   "source": [
    "print(len(movie_infor_self))"
   ]
  },
  {
   "cell_type": "code",
   "execution_count": 5,
   "metadata": {
    "collapsed": false,
    "scrolled": false
   },
   "outputs": [],
   "source": [
    "movies_original = \"./new_movieID.txt\"\n",
    "\n",
    "with open(movies_original, 'r', encoding=\"utf8\") as f:\n",
    "    \n",
    "    for line in f.readlines():\n",
    "        \n",
    "        infor_list = line.rstrip().split(',')\n",
    "        \n",
    "        if len(infor_list) == 4:\n",
    "            idx, title, year, genres_ = infor_list\n",
    "            \n",
    "        else:\n",
    "            idx = infor_list[0]\n",
    "            year = infor_list[-2]\n",
    "            genres_ = infor_list[-1]\n",
    "            title = infor_list[1:-2]\n",
    "            \n",
    "            title = ','.join(title)\n",
    "            \n",
    "#             print(idx, title, year, genres_)\n",
    "        \n",
    "        if title not in movie_infor_self:\n",
    "            print(\"No\")\n",
    "        \n",
    "        movie_infor_self[title]['year'] = year\n",
    "        movie_infor_self[title]['genres'] = genres_"
   ]
  },
  {
   "cell_type": "code",
   "execution_count": 6,
   "metadata": {
    "collapsed": false
   },
   "outputs": [
    {
     "name": "stdout",
     "output_type": "stream",
     "text": [
      "The Dressmaker {'genres': 'Comedy|Drama|Thriller', 'id': 145150, 'rating_ave': 3.0, 'rating_cnt': 1, 'rating_sum': 3.0, 'year': '2015'}\n"
     ]
    }
   ],
   "source": [
    "for key, value in movie_infor_self.items():\n",
    "    print(key, value)\n",
    "    break"
   ]
  },
  {
   "cell_type": "code",
   "execution_count": 8,
   "metadata": {
    "collapsed": false
   },
   "outputs": [],
   "source": [
    "import json\n",
    "with open('movie_infor.json', 'w', encoding=\"utf8\") as outfile:\n",
    "    json.dump(movie_infor_self, outfile)"
   ]
  },
  {
   "cell_type": "code",
   "execution_count": null,
   "metadata": {
    "collapsed": true
   },
   "outputs": [],
   "source": []
  }
 ],
 "metadata": {
  "anaconda-cloud": {},
  "kernelspec": {
   "display_name": "Python [conda root]",
   "language": "python",
   "name": "conda-root-py"
  },
  "language_info": {
   "codemirror_mode": {
    "name": "ipython",
    "version": 3
   },
   "file_extension": ".py",
   "mimetype": "text/x-python",
   "name": "python",
   "nbconvert_exporter": "python",
   "pygments_lexer": "ipython3",
   "version": "3.5.2"
  }
 },
 "nbformat": 4,
 "nbformat_minor": 1
}
