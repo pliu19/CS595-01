{
 "cells": [
  {
   "cell_type": "code",
   "execution_count": 1,
   "metadata": {
    "collapsed": true
   },
   "outputs": [],
   "source": [
    "import json "
   ]
  },
  {
   "cell_type": "code",
   "execution_count": 2,
   "metadata": {
    "collapsed": false
   },
   "outputs": [
    {
     "name": "stdout",
     "output_type": "stream",
     "text": [
      "IMAX\n",
      "['Everest', 'Alice in Wonderland', 'How to Train Your Dragon', 'Iron Man 2', 'Prince of Persia: The Sands of Time', 'Toy Story 3', 'Twilight Saga: Eclipse, The', 'Inception', 'Resident Evil: Afterlife', \"Legend of the Guardians: The Owls of Ga'Hoole\", 'Paranormal Activity 2', 'Megamind', 'Harry Potter and the Deathly Hallows: Part 1', 'Tangled', 'Tron: Legacy', 'Green Hornet, The', 'Cowboys & Aliens', 'I Am Number Four', 'Mars Needs Moms', 'Sucker Punch', 'Thor', 'Pirates of the Caribbean: On Stranger Tides', 'Kung Fu Panda 2', 'Super 8', 'Transformers: Dark of the Moon', 'Cars 2', 'Harry Potter and the Deathly Hallows: Part 2', 'Final Destination 5', 'Contagion', 'Avengers, The', 'Real Steel', 'Puss in Boots', 'Adventures of Tintin, The', 'Dark Knight Rises, The', 'Bourne Legacy, The', 'Mission: Impossible - Ghost Protocol', 'Underworld: Awakening', 'Journey 2: The Mysterious Island', \"Dr. Seuss' The Lorax\", 'John Carter', 'Wrath of the Titans', 'Battleship', 'Dark Shadows', 'Prometheus', \"Madagascar 3: Europe's Most Wanted\", 'Rock of Ages', 'Amazing Spider-Man, The', 'Skyfall', 'Resident Evil: Retribution', 'Cloud Atlas', 'Life of Pi', 'Rise of the Guardians', 'Hobbit: An Unexpected Journey, The', 'Misérables, Les', 'Hansel & Gretel: Witch Hunters', 'Good Day to Die Hard, A', 'Jack the Giant Slayer', 'G.I. Joe: Retaliation', 'Oz the Great and Powerful', 'Oblivion', 'Iron Man 3', 'Star Trek Into Darkness', 'After Earth', 'Man of Steel', 'Pacific Rim', 'World War Z', 'Elysium', 'Despicable Me 2', 'White House Down', 'Lone Ranger, The', 'Man of Tai Chi', 'Riddick', 'Mortal Instruments: City of Bones, The', 'Gravity', 'Captain Phillips', \"Ender's Game\", 'Thor: The Dark World', 'The Hunger Games: Catching Fire', 'Hobbit: The Desolation of Smaug, The', 'Dragon Ball Z: Battle of Gods', 'Jack Ryan: Shadow Recruit', 'Divergent', 'I, Frankenstein', 'RoboCop', 'Interstellar', '300: Rise of an Empire', 'Need for Speed', 'Captain America: The Winter Soldier', 'Noah', 'The Amazing Spider-Man 2', 'Transcendence', 'Godzilla', 'Maleficent', 'Edge of Tomorrow', 'Everest', 'Alice in Wonderland', 'How to Train Your Dragon', 'Iron Man 2', 'Prince of Persia: The Sands of Time', 'Toy Story 3', 'Twilight Saga: Eclipse, The', 'Inception', 'Resident Evil: Afterlife', \"Legend of the Guardians: The Owls of Ga'Hoole\", 'Paranormal Activity 2', 'Megamind', 'Harry Potter and the Deathly Hallows: Part 1', 'Tangled', 'Tron: Legacy', 'Green Hornet, The', 'Cowboys & Aliens', 'I Am Number Four', 'Mars Needs Moms', 'Sucker Punch', 'Thor', 'Pirates of the Caribbean: On Stranger Tides', 'Kung Fu Panda 2', 'Super 8', 'Transformers: Dark of the Moon', 'Cars 2', 'Harry Potter and the Deathly Hallows: Part 2', 'Final Destination 5', 'Contagion', 'Avengers, The', 'Real Steel', 'Puss in Boots', 'Adventures of Tintin, The', 'Dark Knight Rises, The', 'Bourne Legacy, The', 'Mission: Impossible - Ghost Protocol', 'Underworld: Awakening', 'Journey 2: The Mysterious Island', \"Dr. Seuss' The Lorax\", 'John Carter', 'Wrath of the Titans', 'Battleship', 'Dark Shadows', 'Prometheus', \"Madagascar 3: Europe's Most Wanted\", 'Rock of Ages', 'Amazing Spider-Man, The', 'Skyfall', 'Resident Evil: Retribution', 'Cloud Atlas', 'Life of Pi', 'Rise of the Guardians', 'Hobbit: An Unexpected Journey, The', 'Misérables, Les', 'Hansel & Gretel: Witch Hunters', 'Good Day to Die Hard, A', 'Jack the Giant Slayer', 'G.I. Joe: Retaliation', 'Oz the Great and Powerful', 'Oblivion', 'Iron Man 3', 'Star Trek Into Darkness', 'After Earth', 'Man of Steel', 'Pacific Rim', 'World War Z', 'Elysium', 'Despicable Me 2', 'White House Down', 'Lone Ranger, The', 'Man of Tai Chi', 'Riddick', 'Mortal Instruments: City of Bones, The', 'Gravity', 'Captain Phillips', \"Ender's Game\", 'Thor: The Dark World', 'The Hunger Games: Catching Fire', 'Hobbit: The Desolation of Smaug, The', 'Dragon Ball Z: Battle of Gods', 'Jack Ryan: Shadow Recruit', 'Divergent', 'I, Frankenstein', 'RoboCop', 'Interstellar', '300: Rise of an Empire', 'Need for Speed', 'Captain America: The Winter Soldier', 'Noah', 'The Amazing Spider-Man 2', 'Transcendence', 'Godzilla', 'Maleficent', 'Edge of Tomorrow', 'Star Wars: Episode VII - The Force Awakens']\n"
     ]
    }
   ],
   "source": [
    "file_movie_filter = \"./movie_filter.json\"\n",
    "\n",
    "with open(file_movie_filter, 'r', encoding=\"utf8\") as f:\n",
    "    \n",
    "    movie_filter = json.load(f, encoding=\"utf8\")\n",
    "    \n",
    "for key, value in movie_filter.items():\n",
    "    print(key)\n",
    "    print(value)\n",
    "    break"
   ]
  },
  {
   "cell_type": "code",
   "execution_count": 3,
   "metadata": {
    "collapsed": false
   },
   "outputs": [
    {
     "name": "stdout",
     "output_type": "stream",
     "text": [
      "Total Recall\n",
      "{'year': '2012', 'genres': 'Action|Sci-Fi|Thriller', 'id': 95875, 'rating_cnt': 9, 'rating_ave': 2.7222222222222223, 'rating_sum': 24.5}\n"
     ]
    }
   ],
   "source": [
    "file_movie_infor = \"./movie_infor.json\"\n",
    "\n",
    "with open(file_movie_infor, 'r', encoding=\"utf8\") as f:\n",
    "    \n",
    "    movie_infor = json.load(f, encoding=\"utf8\")\n",
    "    \n",
    "for key, value in movie_infor.items():\n",
    "    print(key)\n",
    "    print(value)\n",
    "    break"
   ]
  },
  {
   "cell_type": "code",
   "execution_count": null,
   "metadata": {
    "collapsed": true
   },
   "outputs": [],
   "source": []
  }
 ],
 "metadata": {
  "anaconda-cloud": {},
  "kernelspec": {
   "display_name": "Python [conda root]",
   "language": "python",
   "name": "conda-root-py"
  },
  "language_info": {
   "codemirror_mode": {
    "name": "ipython",
    "version": 3
   },
   "file_extension": ".py",
   "mimetype": "text/x-python",
   "name": "python",
   "nbconvert_exporter": "python",
   "pygments_lexer": "ipython3",
   "version": "3.5.2"
  }
 },
 "nbformat": 4,
 "nbformat_minor": 1
}
