{
 "cells": [
  {
   "cell_type": "markdown",
   "metadata": {},
   "source": [
    "1. Choose a binary classification dataset. \n",
    "2. Create a Jupyter notebook. Name it data3. It should have several sections. The first section should describe the dataset. The second section should load the dataset. The third section should binarize the categorical features, if any.\n",
    "3. If the dataset already comes in train-test split, great. If not, create a train-test split, using 2/3 for train and 1/3 for test.\n",
    "4. Important features\n",
    "\n",
    "    a. Train an L2-regularized LogisticRegression classifier on the train split; use the default parameters for all, except penalty should be set to l2.\n",
    "        Print the top 10 features and their weights (i.e., the features that have the highest absolute values).\n",
    "    b. Train an L1-regularized LogisticRegression classifier on the train split; use the default parameters for all, except penalty should be set to l1.\n",
    "        Print the top 10 features and their weights (i.e., the features that have the highest absolute values).\n",
    "        \n",
    "    c. Train a DecisionTreeClassifier  on the train split; use the default parameters for all, except max_depth=6, min_impurity_decrease=0.005.\n",
    "        Visualize your tree in the notebook itself.\n",
    "        \n",
    "    d. Discuss your results.\n",
    "    \n",
    "    e. Now z-score all features using StandardScaler. z-score both train and test. use fit_transform on train, and transform on test.\n",
    "    \n",
    "    f. Repeat steps 1-4 (i.e., train L2-LR, print top 10 features and their weights, and so on) using the scaled version of the data and discuss your results.\n",
    "5. Evidence\n",
    "    For the following types of objects, create a section, and print a) the total positive evidence,  b) the total negative evidence, c) probability distribution, d) top 3 feature values that contribute most to the positive evidence, e) top 3 feature values that contribute the most to the negative evidence. Print this information on the following object types\n",
    "    a. The most positive object with respect to the probabilities.\n",
    "    b. The most negative object with respect to the probabilities.\n",
    "    c. The object that has the largest positive evidence.\n",
    "    d. The object that has the largest (in magnitude) negative evidence.\n",
    "    e. The most uncertain object (the probabilities are closest to 0.5)\n",
    "\n",
    "Upload the notebook to your 595 github / bitbucket repository.\n",
    "Submit the link using blackboard."
   ]
  },
  {
   "cell_type": "markdown",
   "metadata": {},
   "source": [
    "## Description of dataset:\n",
    "The data is IMDB - review dataset. It's available from the website \"http://ai.stanford.edu/~amaas/data/sentiment/\".\n",
    "The review is binary case which could be positive/negative review. It provides 25,000 reviews for training, and 25,000 reviews for testing. The distribution of class in training and testing is balanced, which means it has 12500 positive reviews and 12500 negative reviews in both training and testing.\n",
    "In this assignment, we will use countvectorizer which means each token feature will be binary."
   ]
  },
  {
   "cell_type": "code",
   "execution_count": 1,
   "metadata": {
    "collapsed": true
   },
   "outputs": [],
   "source": [
    "import glob\n",
    "\n",
    "import numpy as np\n",
    "\n",
    "from sklearn.naive_bayes import BernoulliNB\n",
    "from sklearn.feature_extraction.text import CountVectorizer\n",
    "from sklearn.metrics import accuracy_score\n",
    "\n",
    "from sklearn.tree import DecisionTreeClassifier\n",
    "\n",
    "from sklearn.linear_model import LogisticRegression\n",
    "\n",
    "from sklearn import tree\n",
    "\n",
    "import graphviz "
   ]
  },
  {
   "cell_type": "markdown",
   "metadata": {},
   "source": [
    "### Load the data "
   ]
  },
  {
   "cell_type": "code",
   "execution_count": 2,
   "metadata": {
    "collapsed": true
   },
   "outputs": [],
   "source": [
    "def load_imdb(path):\n",
    "\n",
    "    print(\"Loading the imdb reviews data\")\n",
    "\n",
    "    train_neg_files = glob.glob(path+\"/train/neg/*.txt\")\n",
    "    train_pos_files = glob.glob(path+\"/train/pos/*.txt\")\n",
    "\n",
    "    train_corpus = []\n",
    "    y_train = []\n",
    "    \n",
    "    for tnf in train_neg_files:\n",
    "        f = open(tnf, 'r', encoding=\"utf8\")\n",
    "        line = f.read()\n",
    "        train_corpus.append(line)\n",
    "        y_train.append(0)\n",
    "        f.close()\n",
    "\n",
    "\n",
    "    for tpf in train_pos_files:\n",
    "        f = open(tpf, 'r', encoding=\"utf8\")\n",
    "        line = f.read()\n",
    "        train_corpus.append(line)\n",
    "        y_train.append(1)\n",
    "        f.close()\n",
    "    \n",
    "    print(\"Training Data loaded.\")\n",
    "    print()\n",
    "    \n",
    "    test_neg_files = glob.glob(path+\"/test/neg/*.txt\")\n",
    "    test_pos_files = glob.glob(path+\"/test/pos/*.txt\")\n",
    "\n",
    "    test_corpus = []\n",
    "\n",
    "    y_test = []\n",
    "\n",
    "    for tnf in test_neg_files:\n",
    "        f = open(tnf, 'r', encoding=\"utf8\")\n",
    "        test_corpus.append(f.read())\n",
    "        y_test.append(0)\n",
    "        f.close()\n",
    "\n",
    "    for tpf in test_pos_files:\n",
    "        f = open(tpf, 'r', encoding=\"utf8\")\n",
    "        test_corpus.append(f.read())\n",
    "        y_test.append(1)\n",
    "        f.close()\n",
    "\n",
    "    print(\"Testing Data loaded.\")\n",
    "    print()\n",
    "    \n",
    "    y_train = np.array(y_train)\n",
    "    y_test = np.array(y_test)\n",
    "\n",
    "    return train_corpus, test_corpus, y_train, y_test"
   ]
  },
  {
   "cell_type": "code",
   "execution_count": 3,
   "metadata": {
    "collapsed": true
   },
   "outputs": [],
   "source": [
    "imdb_path = \"../aclImdb\""
   ]
  },
  {
   "cell_type": "code",
   "execution_count": 4,
   "metadata": {
    "collapsed": false
   },
   "outputs": [
    {
     "name": "stdout",
     "output_type": "stream",
     "text": [
      "Loading the imdb reviews data\n",
      "Training Data loaded.\n",
      "\n",
      "Testing Data loaded.\n",
      "\n"
     ]
    }
   ],
   "source": [
    "train_corpus, test_corpus, y_train, y_test = load_imdb(imdb_path)"
   ]
  },
  {
   "cell_type": "markdown",
   "metadata": {},
   "source": [
    "### Non-z-score part\n",
    "\n",
    "### Binarize and vectorize the data into matrix"
   ]
  },
  {
   "cell_type": "code",
   "execution_count": 5,
   "metadata": {
    "collapsed": false
   },
   "outputs": [],
   "source": [
    "vectorizer = CountVectorizer(min_df=5, max_df=1.0, binary=True)\n",
    "\n",
    "X_train = vectorizer.fit_transform(train_corpus)\n",
    "\n",
    "X_test = vectorizer.transform(test_corpus)"
   ]
  },
  {
   "cell_type": "code",
   "execution_count": 6,
   "metadata": {
    "collapsed": true
   },
   "outputs": [],
   "source": [
    "feature_name = vectorizer.get_feature_names()"
   ]
  },
  {
   "cell_type": "code",
   "execution_count": 7,
   "metadata": {
    "collapsed": false
   },
   "outputs": [
    {
     "data": {
      "text/plain": [
       "(25000, 27272)"
      ]
     },
     "execution_count": 7,
     "metadata": {},
     "output_type": "execute_result"
    }
   ],
   "source": [
    "X_train.shape"
   ]
  },
  {
   "cell_type": "code",
   "execution_count": 8,
   "metadata": {
    "collapsed": true
   },
   "outputs": [],
   "source": [
    "# X_train = X_train.todense()\n",
    "# X_train[X_train==0] = -1\n",
    "\n",
    "# X_test = X_test.todense()\n",
    "# X_test[X_test==0] = -1"
   ]
  },
  {
   "cell_type": "code",
   "execution_count": null,
   "metadata": {
    "collapsed": true
   },
   "outputs": [],
   "source": []
  },
  {
   "cell_type": "markdown",
   "metadata": {},
   "source": [
    "### Train three different classifiers"
   ]
  },
  {
   "cell_type": "code",
   "execution_count": 9,
   "metadata": {
    "collapsed": false
   },
   "outputs": [
    {
     "name": "stdout",
     "output_type": "stream",
     "text": [
      "index: 26974 \t\t coef: -2.336118 \t\t token_name: worst\n",
      "index: 26430 \t\t coef: -2.253081 \t\t token_name: waste\n",
      "index: 6928 \t\t coef: -2.052119 \t\t token_name: disappointment\n",
      "index: 18370 \t\t coef: -2.041297 \t\t token_name: poorly\n",
      "index: 1894 \t\t coef: -1.749109 \t\t token_name: awful\n",
      "index: 25537 \t\t coef: -1.666759 \t\t token_name: unfunny\n",
      "index: 13889 \t\t coef: -1.635270 \t\t token_name: laughable\n",
      "index: 19759 \t\t coef: 1.600895 \t\t token_name: refreshing\n",
      "index: 6926 \t\t coef: -1.595820 \t\t token_name: disappointing\n",
      "index: 13746 \t\t coef: -1.591617 \t\t token_name: lacks\n"
     ]
    }
   ],
   "source": [
    "# Train on L2 penalty\n",
    "\n",
    "clf_L2 = LogisticRegression(penalty='l2')\n",
    "\n",
    "clf_L2.fit(X_train, y_train)\n",
    "\n",
    "coef = clf_L2.coef_[0]\n",
    "\n",
    "coef_abs = np.abs(coef)\n",
    "\n",
    "idx_top10 = np.argsort(coef_abs)[::-1][:10]\n",
    "\n",
    "for idx in idx_top10:\n",
    "    print(\"index: %d \\t\\t coef: %f \\t\\t token_name: %s\" %(idx, coef[idx], feature_name[idx]))"
   ]
  },
  {
   "cell_type": "code",
   "execution_count": 10,
   "metadata": {
    "collapsed": false
   },
   "outputs": [
    {
     "name": "stdout",
     "output_type": "stream",
     "text": [
      "index: 26478 \t\t coef: -4.045770 \t\t token_name: wayans\n",
      "index: 9178 \t\t coef: 3.891583 \t\t token_name: fez\n",
      "index: 10980 \t\t coef: -3.622816 \t\t token_name: halloran\n",
      "index: 18298 \t\t coef: 3.419895 \t\t token_name: poisoning\n",
      "index: 24516 \t\t coef: -3.222484 \t\t token_name: thunderbirds\n",
      "index: 4011 \t\t coef: 3.027120 \t\t token_name: cerebral\n",
      "index: 8139 \t\t coef: 2.989486 \t\t token_name: endearingly\n",
      "index: 25484 \t\t coef: -2.944747 \t\t token_name: uneducated\n",
      "index: 14163 \t\t coef: -2.848162 \t\t token_name: lifeless\n",
      "index: 10658 \t\t coef: 2.805848 \t\t token_name: greene\n"
     ]
    }
   ],
   "source": [
    "# Train on L1 penalty\n",
    "\n",
    "clf_L1 = LogisticRegression(penalty='l1')\n",
    "\n",
    "clf_L1.fit(X_train, y_train)\n",
    "\n",
    "coef = clf_L1.coef_[0]\n",
    "\n",
    "coef_abs = np.abs(coef)\n",
    "\n",
    "idx_top10 = np.argsort(coef_abs)[::-1][:10]\n",
    "\n",
    "for idx in idx_top10:\n",
    "    print(\"index: %d \\t\\t coef: %f \\t\\t token_name: %s\" %(idx, coef[idx], feature_name[idx]))"
   ]
  },
  {
   "cell_type": "code",
   "execution_count": 11,
   "metadata": {
    "collapsed": false
   },
   "outputs": [
    {
     "data": {
      "image/svg+xml": [
       "<?xml version=\"1.0\" encoding=\"UTF-8\" standalone=\"no\"?>\r\n",
       "<!DOCTYPE svg PUBLIC \"-//W3C//DTD SVG 1.1//EN\"\r\n",
       " \"http://www.w3.org/Graphics/SVG/1.1/DTD/svg11.dtd\">\r\n",
       "<!-- Generated by graphviz version 2.38.0 (20140413.2041)\r\n",
       " -->\r\n",
       "<!-- Title: Tree Pages: 1 -->\r\n",
       "<svg width=\"719pt\" height=\"790pt\"\r\n",
       " viewBox=\"0.00 0.00 719.00 790.00\" xmlns=\"http://www.w3.org/2000/svg\" xmlns:xlink=\"http://www.w3.org/1999/xlink\">\r\n",
       "<g id=\"graph0\" class=\"graph\" transform=\"scale(1 1) rotate(0) translate(4 786)\">\r\n",
       "<title>Tree</title>\r\n",
       "<polygon fill=\"white\" stroke=\"none\" points=\"-4,4 -4,-786 715,-786 715,4 -4,4\"/>\r\n",
       "<!-- 0 -->\r\n",
       "<g id=\"node1\" class=\"node\"><title>0</title>\r\n",
       "<path fill=\"none\" stroke=\"black\" d=\"M622.5,-782C622.5,-782 483.5,-782 483.5,-782 477.5,-782 471.5,-776 471.5,-770 471.5,-770 471.5,-711 471.5,-711 471.5,-705 477.5,-699 483.5,-699 483.5,-699 622.5,-699 622.5,-699 628.5,-699 634.5,-705 634.5,-711 634.5,-711 634.5,-770 634.5,-770 634.5,-776 628.5,-782 622.5,-782\"/>\r\n",
       "<text text-anchor=\"start\" x=\"523\" y=\"-766.8\" font-family=\"Helvetica,sans-Serif\" font-size=\"14.00\">bad ≤ 0.5</text>\r\n",
       "<text text-anchor=\"start\" x=\"524\" y=\"-751.8\" font-family=\"Helvetica,sans-Serif\" font-size=\"14.00\">gini = 0.5</text>\r\n",
       "<text text-anchor=\"start\" x=\"497\" y=\"-736.8\" font-family=\"Helvetica,sans-Serif\" font-size=\"14.00\">samples = 25000</text>\r\n",
       "<text text-anchor=\"start\" x=\"479.5\" y=\"-721.8\" font-family=\"Helvetica,sans-Serif\" font-size=\"14.00\">value = [12500, 12500]</text>\r\n",
       "<text text-anchor=\"start\" x=\"516.5\" y=\"-706.8\" font-family=\"Helvetica,sans-Serif\" font-size=\"14.00\">class = pos</text>\r\n",
       "</g>\r\n",
       "<!-- 1 -->\r\n",
       "<g id=\"node2\" class=\"node\"><title>1</title>\r\n",
       "<path fill=\"#399de5\" fill-opacity=\"0.262745\" stroke=\"black\" d=\"M534.5,-663C534.5,-663 403.5,-663 403.5,-663 397.5,-663 391.5,-657 391.5,-651 391.5,-651 391.5,-592 391.5,-592 391.5,-586 397.5,-580 403.5,-580 403.5,-580 534.5,-580 534.5,-580 540.5,-580 546.5,-586 546.5,-592 546.5,-592 546.5,-651 546.5,-651 546.5,-657 540.5,-663 534.5,-663\"/>\r\n",
       "<text text-anchor=\"start\" x=\"434\" y=\"-647.8\" font-family=\"Helvetica,sans-Serif\" font-size=\"14.00\">worst ≤ 0.5</text>\r\n",
       "<text text-anchor=\"start\" x=\"431.5\" y=\"-632.8\" font-family=\"Helvetica,sans-Serif\" font-size=\"14.00\">gini = 0.488</text>\r\n",
       "<text text-anchor=\"start\" x=\"413\" y=\"-617.8\" font-family=\"Helvetica,sans-Serif\" font-size=\"14.00\">samples = 19096</text>\r\n",
       "<text text-anchor=\"start\" x=\"399.5\" y=\"-602.8\" font-family=\"Helvetica,sans-Serif\" font-size=\"14.00\">value = [8094, 11002]</text>\r\n",
       "<text text-anchor=\"start\" x=\"432.5\" y=\"-587.8\" font-family=\"Helvetica,sans-Serif\" font-size=\"14.00\">class = neg</text>\r\n",
       "</g>\r\n",
       "<!-- 0&#45;&gt;1 -->\r\n",
       "<g id=\"edge1\" class=\"edge\"><title>0&#45;&gt;1</title>\r\n",
       "<path fill=\"none\" stroke=\"black\" d=\"M523.857,-698.907C517.471,-690.014 510.648,-680.509 504.058,-671.331\"/>\r\n",
       "<polygon fill=\"black\" stroke=\"black\" points=\"506.767,-669.103 498.092,-663.021 501.081,-673.185 506.767,-669.103\"/>\r\n",
       "<text text-anchor=\"middle\" x=\"494.042\" y=\"-683.991\" font-family=\"Helvetica,sans-Serif\" font-size=\"14.00\">True</text>\r\n",
       "</g>\r\n",
       "<!-- 12 -->\r\n",
       "<g id=\"node13\" class=\"node\"><title>12</title>\r\n",
       "<path fill=\"#e58139\" fill-opacity=\"0.658824\" stroke=\"black\" d=\"M699,-655.5C699,-655.5 577,-655.5 577,-655.5 571,-655.5 565,-649.5 565,-643.5 565,-643.5 565,-599.5 565,-599.5 565,-593.5 571,-587.5 577,-587.5 577,-587.5 699,-587.5 699,-587.5 705,-587.5 711,-593.5 711,-599.5 711,-599.5 711,-643.5 711,-643.5 711,-649.5 705,-655.5 699,-655.5\"/>\r\n",
       "<text text-anchor=\"start\" x=\"600.5\" y=\"-640.3\" font-family=\"Helvetica,sans-Serif\" font-size=\"14.00\">gini = 0.379</text>\r\n",
       "<text text-anchor=\"start\" x=\"586.5\" y=\"-625.3\" font-family=\"Helvetica,sans-Serif\" font-size=\"14.00\">samples = 5904</text>\r\n",
       "<text text-anchor=\"start\" x=\"573\" y=\"-610.3\" font-family=\"Helvetica,sans-Serif\" font-size=\"14.00\">value = [4406, 1498]</text>\r\n",
       "<text text-anchor=\"start\" x=\"601.5\" y=\"-595.3\" font-family=\"Helvetica,sans-Serif\" font-size=\"14.00\">class = pos</text>\r\n",
       "</g>\r\n",
       "<!-- 0&#45;&gt;12 -->\r\n",
       "<g id=\"edge12\" class=\"edge\"><title>0&#45;&gt;12</title>\r\n",
       "<path fill=\"none\" stroke=\"black\" d=\"M582.49,-698.907C590.747,-687.542 599.729,-675.178 608.015,-663.774\"/>\r\n",
       "<polygon fill=\"black\" stroke=\"black\" points=\"610.858,-665.814 613.904,-655.667 605.195,-661.7 610.858,-665.814\"/>\r\n",
       "<text text-anchor=\"middle\" x=\"617.816\" y=\"-676.659\" font-family=\"Helvetica,sans-Serif\" font-size=\"14.00\">False</text>\r\n",
       "</g>\r\n",
       "<!-- 2 -->\r\n",
       "<g id=\"node3\" class=\"node\"><title>2</title>\r\n",
       "<path fill=\"#399de5\" fill-opacity=\"0.349020\" stroke=\"black\" d=\"M452.5,-544C452.5,-544 321.5,-544 321.5,-544 315.5,-544 309.5,-538 309.5,-532 309.5,-532 309.5,-473 309.5,-473 309.5,-467 315.5,-461 321.5,-461 321.5,-461 452.5,-461 452.5,-461 458.5,-461 464.5,-467 464.5,-473 464.5,-473 464.5,-532 464.5,-532 464.5,-538 458.5,-544 452.5,-544\"/>\r\n",
       "<text text-anchor=\"start\" x=\"350.5\" y=\"-528.8\" font-family=\"Helvetica,sans-Serif\" font-size=\"14.00\">waste ≤ 0.5</text>\r\n",
       "<text text-anchor=\"start\" x=\"349.5\" y=\"-513.8\" font-family=\"Helvetica,sans-Serif\" font-size=\"14.00\">gini = 0.477</text>\r\n",
       "<text text-anchor=\"start\" x=\"331\" y=\"-498.8\" font-family=\"Helvetica,sans-Serif\" font-size=\"14.00\">samples = 17866</text>\r\n",
       "<text text-anchor=\"start\" x=\"317.5\" y=\"-483.8\" font-family=\"Helvetica,sans-Serif\" font-size=\"14.00\">value = [7032, 10834]</text>\r\n",
       "<text text-anchor=\"start\" x=\"350.5\" y=\"-468.8\" font-family=\"Helvetica,sans-Serif\" font-size=\"14.00\">class = neg</text>\r\n",
       "</g>\r\n",
       "<!-- 1&#45;&gt;2 -->\r\n",
       "<g id=\"edge2\" class=\"edge\"><title>1&#45;&gt;2</title>\r\n",
       "<path fill=\"none\" stroke=\"black\" d=\"M440.551,-579.907C434.317,-571.014 427.656,-561.509 421.223,-552.331\"/>\r\n",
       "<polygon fill=\"black\" stroke=\"black\" points=\"424.005,-550.201 415.399,-544.021 418.272,-554.219 424.005,-550.201\"/>\r\n",
       "</g>\r\n",
       "<!-- 11 -->\r\n",
       "<g id=\"node12\" class=\"node\"><title>11</title>\r\n",
       "<path fill=\"#e58139\" fill-opacity=\"0.843137\" stroke=\"black\" d=\"M609,-536.5C609,-536.5 495,-536.5 495,-536.5 489,-536.5 483,-530.5 483,-524.5 483,-524.5 483,-480.5 483,-480.5 483,-474.5 489,-468.5 495,-468.5 495,-468.5 609,-468.5 609,-468.5 615,-468.5 621,-474.5 621,-480.5 621,-480.5 621,-524.5 621,-524.5 621,-530.5 615,-536.5 609,-536.5\"/>\r\n",
       "<text text-anchor=\"start\" x=\"514.5\" y=\"-521.3\" font-family=\"Helvetica,sans-Serif\" font-size=\"14.00\">gini = 0.236</text>\r\n",
       "<text text-anchor=\"start\" x=\"500.5\" y=\"-506.3\" font-family=\"Helvetica,sans-Serif\" font-size=\"14.00\">samples = 1230</text>\r\n",
       "<text text-anchor=\"start\" x=\"491\" y=\"-491.3\" font-family=\"Helvetica,sans-Serif\" font-size=\"14.00\">value = [1062, 168]</text>\r\n",
       "<text text-anchor=\"start\" x=\"515.5\" y=\"-476.3\" font-family=\"Helvetica,sans-Serif\" font-size=\"14.00\">class = pos</text>\r\n",
       "</g>\r\n",
       "<!-- 1&#45;&gt;11 -->\r\n",
       "<g id=\"edge11\" class=\"edge\"><title>1&#45;&gt;11</title>\r\n",
       "<path fill=\"none\" stroke=\"black\" d=\"M497.796,-579.907C505.781,-568.652 514.46,-556.418 522.484,-545.106\"/>\r\n",
       "<polygon fill=\"black\" stroke=\"black\" points=\"525.54,-546.848 528.471,-536.667 519.831,-542.798 525.54,-546.848\"/>\r\n",
       "</g>\r\n",
       "<!-- 3 -->\r\n",
       "<g id=\"node4\" class=\"node\"><title>3</title>\r\n",
       "<path fill=\"#399de5\" fill-opacity=\"0.400000\" stroke=\"black\" d=\"M374.5,-425C374.5,-425 243.5,-425 243.5,-425 237.5,-425 231.5,-419 231.5,-413 231.5,-413 231.5,-354 231.5,-354 231.5,-348 237.5,-342 243.5,-342 243.5,-342 374.5,-342 374.5,-342 380.5,-342 386.5,-348 386.5,-354 386.5,-354 386.5,-413 386.5,-413 386.5,-419 380.5,-425 374.5,-425\"/>\r\n",
       "<text text-anchor=\"start\" x=\"275\" y=\"-409.8\" font-family=\"Helvetica,sans-Serif\" font-size=\"14.00\">great ≤ 0.5</text>\r\n",
       "<text text-anchor=\"start\" x=\"271.5\" y=\"-394.8\" font-family=\"Helvetica,sans-Serif\" font-size=\"14.00\">gini = 0.468</text>\r\n",
       "<text text-anchor=\"start\" x=\"253\" y=\"-379.8\" font-family=\"Helvetica,sans-Serif\" font-size=\"14.00\">samples = 17203</text>\r\n",
       "<text text-anchor=\"start\" x=\"239.5\" y=\"-364.8\" font-family=\"Helvetica,sans-Serif\" font-size=\"14.00\">value = [6438, 10765]</text>\r\n",
       "<text text-anchor=\"start\" x=\"272.5\" y=\"-349.8\" font-family=\"Helvetica,sans-Serif\" font-size=\"14.00\">class = neg</text>\r\n",
       "</g>\r\n",
       "<!-- 2&#45;&gt;3 -->\r\n",
       "<g id=\"edge3\" class=\"edge\"><title>2&#45;&gt;3</title>\r\n",
       "<path fill=\"none\" stroke=\"black\" d=\"M359.938,-460.907C354.07,-452.105 347.802,-442.703 341.741,-433.612\"/>\r\n",
       "<polygon fill=\"black\" stroke=\"black\" points=\"344.473,-431.4 336.014,-425.021 338.649,-435.283 344.473,-431.4\"/>\r\n",
       "</g>\r\n",
       "<!-- 10 -->\r\n",
       "<g id=\"node11\" class=\"node\"><title>10</title>\r\n",
       "<path fill=\"#e58139\" fill-opacity=\"0.882353\" stroke=\"black\" d=\"M515,-417.5C515,-417.5 417,-417.5 417,-417.5 411,-417.5 405,-411.5 405,-405.5 405,-405.5 405,-361.5 405,-361.5 405,-355.5 411,-349.5 417,-349.5 417,-349.5 515,-349.5 515,-349.5 521,-349.5 527,-355.5 527,-361.5 527,-361.5 527,-405.5 527,-405.5 527,-411.5 521,-417.5 515,-417.5\"/>\r\n",
       "<text text-anchor=\"start\" x=\"428.5\" y=\"-402.3\" font-family=\"Helvetica,sans-Serif\" font-size=\"14.00\">gini = 0.186</text>\r\n",
       "<text text-anchor=\"start\" x=\"418.5\" y=\"-387.3\" font-family=\"Helvetica,sans-Serif\" font-size=\"14.00\">samples = 663</text>\r\n",
       "<text text-anchor=\"start\" x=\"413\" y=\"-372.3\" font-family=\"Helvetica,sans-Serif\" font-size=\"14.00\">value = [594, 69]</text>\r\n",
       "<text text-anchor=\"start\" x=\"429.5\" y=\"-357.3\" font-family=\"Helvetica,sans-Serif\" font-size=\"14.00\">class = pos</text>\r\n",
       "</g>\r\n",
       "<!-- 2&#45;&gt;10 -->\r\n",
       "<g id=\"edge10\" class=\"edge\"><title>2&#45;&gt;10</title>\r\n",
       "<path fill=\"none\" stroke=\"black\" d=\"M414.409,-460.907C422.008,-449.652 430.269,-437.418 437.907,-426.106\"/>\r\n",
       "<polygon fill=\"black\" stroke=\"black\" points=\"440.91,-427.913 443.605,-417.667 435.109,-423.996 440.91,-427.913\"/>\r\n",
       "</g>\r\n",
       "<!-- 4 -->\r\n",
       "<g id=\"node5\" class=\"node\"><title>4</title>\r\n",
       "<path fill=\"#399de5\" fill-opacity=\"0.254902\" stroke=\"black\" d=\"M288,-306C288,-306 166,-306 166,-306 160,-306 154,-300 154,-294 154,-294 154,-235 154,-235 154,-229 160,-223 166,-223 166,-223 288,-223 288,-223 294,-223 300,-229 300,-235 300,-235 300,-294 300,-294 300,-300 294,-306 288,-306\"/>\r\n",
       "<text text-anchor=\"start\" x=\"193\" y=\"-290.8\" font-family=\"Helvetica,sans-Serif\" font-size=\"14.00\">awful ≤ 0.5</text>\r\n",
       "<text text-anchor=\"start\" x=\"189.5\" y=\"-275.8\" font-family=\"Helvetica,sans-Serif\" font-size=\"14.00\">gini = 0.489</text>\r\n",
       "<text text-anchor=\"start\" x=\"171\" y=\"-260.8\" font-family=\"Helvetica,sans-Serif\" font-size=\"14.00\">samples = 12591</text>\r\n",
       "<text text-anchor=\"start\" x=\"162\" y=\"-245.8\" font-family=\"Helvetica,sans-Serif\" font-size=\"14.00\">value = [5372, 7219]</text>\r\n",
       "<text text-anchor=\"start\" x=\"190.5\" y=\"-230.8\" font-family=\"Helvetica,sans-Serif\" font-size=\"14.00\">class = neg</text>\r\n",
       "</g>\r\n",
       "<!-- 3&#45;&gt;4 -->\r\n",
       "<g id=\"edge4\" class=\"edge\"><title>3&#45;&gt;4</title>\r\n",
       "<path fill=\"none\" stroke=\"black\" d=\"M280.551,-341.907C274.317,-333.014 267.656,-323.509 261.223,-314.331\"/>\r\n",
       "<polygon fill=\"black\" stroke=\"black\" points=\"264.005,-312.201 255.399,-306.021 258.272,-316.219 264.005,-312.201\"/>\r\n",
       "</g>\r\n",
       "<!-- 9 -->\r\n",
       "<g id=\"node10\" class=\"node\"><title>9</title>\r\n",
       "<path fill=\"#399de5\" fill-opacity=\"0.698039\" stroke=\"black\" d=\"M452,-298.5C452,-298.5 330,-298.5 330,-298.5 324,-298.5 318,-292.5 318,-286.5 318,-286.5 318,-242.5 318,-242.5 318,-236.5 324,-230.5 330,-230.5 330,-230.5 452,-230.5 452,-230.5 458,-230.5 464,-236.5 464,-242.5 464,-242.5 464,-286.5 464,-286.5 464,-292.5 458,-298.5 452,-298.5\"/>\r\n",
       "<text text-anchor=\"start\" x=\"353.5\" y=\"-283.3\" font-family=\"Helvetica,sans-Serif\" font-size=\"14.00\">gini = 0.355</text>\r\n",
       "<text text-anchor=\"start\" x=\"339.5\" y=\"-268.3\" font-family=\"Helvetica,sans-Serif\" font-size=\"14.00\">samples = 4612</text>\r\n",
       "<text text-anchor=\"start\" x=\"326\" y=\"-253.3\" font-family=\"Helvetica,sans-Serif\" font-size=\"14.00\">value = [1066, 3546]</text>\r\n",
       "<text text-anchor=\"start\" x=\"354.5\" y=\"-238.3\" font-family=\"Helvetica,sans-Serif\" font-size=\"14.00\">class = neg</text>\r\n",
       "</g>\r\n",
       "<!-- 3&#45;&gt;9 -->\r\n",
       "<g id=\"edge9\" class=\"edge\"><title>3&#45;&gt;9</title>\r\n",
       "<path fill=\"none\" stroke=\"black\" d=\"M337.449,-341.907C345.338,-330.652 353.912,-318.418 361.84,-307.106\"/>\r\n",
       "<polygon fill=\"black\" stroke=\"black\" points=\"364.882,-308.865 367.755,-298.667 359.149,-304.847 364.882,-308.865\"/>\r\n",
       "</g>\r\n",
       "<!-- 5 -->\r\n",
       "<g id=\"node6\" class=\"node\"><title>5</title>\r\n",
       "<path fill=\"#399de5\" fill-opacity=\"0.305882\" stroke=\"black\" d=\"M212,-187C212,-187 90,-187 90,-187 84,-187 78,-181 78,-175 78,-175 78,-116 78,-116 78,-110 84,-104 90,-104 90,-104 212,-104 212,-104 218,-104 224,-110 224,-116 224,-116 224,-175 224,-175 224,-181 218,-187 212,-187\"/>\r\n",
       "<text text-anchor=\"start\" x=\"113\" y=\"-171.8\" font-family=\"Helvetica,sans-Serif\" font-size=\"14.00\">boring ≤ 0.5</text>\r\n",
       "<text text-anchor=\"start\" x=\"113.5\" y=\"-156.8\" font-family=\"Helvetica,sans-Serif\" font-size=\"14.00\">gini = 0.484</text>\r\n",
       "<text text-anchor=\"start\" x=\"95\" y=\"-141.8\" font-family=\"Helvetica,sans-Serif\" font-size=\"14.00\">samples = 12126</text>\r\n",
       "<text text-anchor=\"start\" x=\"86\" y=\"-126.8\" font-family=\"Helvetica,sans-Serif\" font-size=\"14.00\">value = [4972, 7154]</text>\r\n",
       "<text text-anchor=\"start\" x=\"114.5\" y=\"-111.8\" font-family=\"Helvetica,sans-Serif\" font-size=\"14.00\">class = neg</text>\r\n",
       "</g>\r\n",
       "<!-- 4&#45;&gt;5 -->\r\n",
       "<g id=\"edge5\" class=\"edge\"><title>4&#45;&gt;5</title>\r\n",
       "<path fill=\"none\" stroke=\"black\" d=\"M200.632,-222.907C194.914,-214.105 188.807,-204.703 182.902,-195.612\"/>\r\n",
       "<polygon fill=\"black\" stroke=\"black\" points=\"185.704,-193.5 177.321,-187.021 179.833,-197.313 185.704,-193.5\"/>\r\n",
       "</g>\r\n",
       "<!-- 8 -->\r\n",
       "<g id=\"node9\" class=\"node\"><title>8</title>\r\n",
       "<path fill=\"#e58139\" fill-opacity=\"0.839216\" stroke=\"black\" d=\"M352,-179.5C352,-179.5 254,-179.5 254,-179.5 248,-179.5 242,-173.5 242,-167.5 242,-167.5 242,-123.5 242,-123.5 242,-117.5 248,-111.5 254,-111.5 254,-111.5 352,-111.5 352,-111.5 358,-111.5 364,-117.5 364,-123.5 364,-123.5 364,-167.5 364,-167.5 364,-173.5 358,-179.5 352,-179.5\"/>\r\n",
       "<text text-anchor=\"start\" x=\"269.5\" y=\"-164.3\" font-family=\"Helvetica,sans-Serif\" font-size=\"14.00\">gini = 0.24</text>\r\n",
       "<text text-anchor=\"start\" x=\"255.5\" y=\"-149.3\" font-family=\"Helvetica,sans-Serif\" font-size=\"14.00\">samples = 465</text>\r\n",
       "<text text-anchor=\"start\" x=\"250\" y=\"-134.3\" font-family=\"Helvetica,sans-Serif\" font-size=\"14.00\">value = [400, 65]</text>\r\n",
       "<text text-anchor=\"start\" x=\"266.5\" y=\"-119.3\" font-family=\"Helvetica,sans-Serif\" font-size=\"14.00\">class = pos</text>\r\n",
       "</g>\r\n",
       "<!-- 4&#45;&gt;8 -->\r\n",
       "<g id=\"edge8\" class=\"edge\"><title>4&#45;&gt;8</title>\r\n",
       "<path fill=\"none\" stroke=\"black\" d=\"M253.368,-222.907C260.679,-211.652 268.626,-199.418 275.974,-188.106\"/>\r\n",
       "<polygon fill=\"black\" stroke=\"black\" points=\"278.943,-189.96 281.456,-179.667 273.073,-186.146 278.943,-189.96\"/>\r\n",
       "</g>\r\n",
       "<!-- 6 -->\r\n",
       "<g id=\"node7\" class=\"node\"><title>6</title>\r\n",
       "<path fill=\"#399de5\" fill-opacity=\"0.352941\" stroke=\"black\" d=\"M134,-68C134,-68 12,-68 12,-68 6,-68 0,-62 0,-56 0,-56 0,-12 0,-12 0,-6 6,-0 12,-0 12,-0 134,-0 134,-0 140,-0 146,-6 146,-12 146,-12 146,-56 146,-56 146,-62 140,-68 134,-68\"/>\r\n",
       "<text text-anchor=\"start\" x=\"35.5\" y=\"-52.8\" font-family=\"Helvetica,sans-Serif\" font-size=\"14.00\">gini = 0.477</text>\r\n",
       "<text text-anchor=\"start\" x=\"17\" y=\"-37.8\" font-family=\"Helvetica,sans-Serif\" font-size=\"14.00\">samples = 11549</text>\r\n",
       "<text text-anchor=\"start\" x=\"8\" y=\"-22.8\" font-family=\"Helvetica,sans-Serif\" font-size=\"14.00\">value = [4544, 7005]</text>\r\n",
       "<text text-anchor=\"start\" x=\"36.5\" y=\"-7.8\" font-family=\"Helvetica,sans-Serif\" font-size=\"14.00\">class = neg</text>\r\n",
       "</g>\r\n",
       "<!-- 5&#45;&gt;6 -->\r\n",
       "<g id=\"edge6\" class=\"edge\"><title>5&#45;&gt;6</title>\r\n",
       "<path fill=\"none\" stroke=\"black\" d=\"M121.956,-103.726C115.654,-94.879 108.98,-85.51 102.654,-76.6303\"/>\r\n",
       "<polygon fill=\"black\" stroke=\"black\" points=\"105.373,-74.4138 96.7203,-68.2996 99.6714,-78.4751 105.373,-74.4138\"/>\r\n",
       "</g>\r\n",
       "<!-- 7 -->\r\n",
       "<g id=\"node8\" class=\"node\"><title>7</title>\r\n",
       "<path fill=\"#e58139\" fill-opacity=\"0.650980\" stroke=\"black\" d=\"M282,-68C282,-68 176,-68 176,-68 170,-68 164,-62 164,-56 164,-56 164,-12 164,-12 164,-6 170,-0 176,-0 176,-0 282,-0 282,-0 288,-0 294,-6 294,-12 294,-12 294,-56 294,-56 294,-62 288,-68 282,-68\"/>\r\n",
       "<text text-anchor=\"start\" x=\"191.5\" y=\"-52.8\" font-family=\"Helvetica,sans-Serif\" font-size=\"14.00\">gini = 0.383</text>\r\n",
       "<text text-anchor=\"start\" x=\"181.5\" y=\"-37.8\" font-family=\"Helvetica,sans-Serif\" font-size=\"14.00\">samples = 577</text>\r\n",
       "<text text-anchor=\"start\" x=\"172\" y=\"-22.8\" font-family=\"Helvetica,sans-Serif\" font-size=\"14.00\">value = [428, 149]</text>\r\n",
       "<text text-anchor=\"start\" x=\"192.5\" y=\"-7.8\" font-family=\"Helvetica,sans-Serif\" font-size=\"14.00\">class = pos</text>\r\n",
       "</g>\r\n",
       "<!-- 5&#45;&gt;7 -->\r\n",
       "<g id=\"edge7\" class=\"edge\"><title>5&#45;&gt;7</title>\r\n",
       "<path fill=\"none\" stroke=\"black\" d=\"M180.044,-103.726C186.346,-94.879 193.02,-85.51 199.346,-76.6303\"/>\r\n",
       "<polygon fill=\"black\" stroke=\"black\" points=\"202.329,-78.4751 205.28,-68.2996 196.627,-74.4138 202.329,-78.4751\"/>\r\n",
       "</g>\r\n",
       "</g>\r\n",
       "</svg>\r\n"
      ],
      "text/plain": [
       "<graphviz.files.Source at 0x22817d57828>"
      ]
     },
     "execution_count": 11,
     "metadata": {},
     "output_type": "execute_result"
    }
   ],
   "source": [
    "# Train on decision tree\n",
    "\n",
    "def plot_DT(clf, feature_names, target_names):\n",
    "    \n",
    "    dot_data = tree.export_graphviz(clf, out_file=None, \n",
    "                         feature_names=feature_names,  \n",
    "                         class_names=target_names,  \n",
    "                         filled=True, rounded=True,  \n",
    "                         special_characters=True)\n",
    "    \n",
    "    graph = graphviz.Source(dot_data) \n",
    "    \n",
    "    return graph\n",
    "\n",
    "clf_DT = DecisionTreeClassifier(max_depth=6, min_impurity_decrease=0.005)\n",
    "clf_DT.fit(X_train, y_train)\n",
    "\n",
    "graph = plot_DT(clf_DT, feature_name, ['pos', 'neg'])\n",
    "\n",
    "graph"
   ]
  },
  {
   "cell_type": "markdown",
   "metadata": {
    "collapsed": true
   },
   "source": [
    "### Discussion\n",
    "\n",
    "We can see that LogisticRegression with L2 penalty is closed to decision tree when we analyze some top featuers. For example, \"worst\", \"waste\" and \"awful\" are apeared in both DT and L2-lr. However, L1-lr doesn't seem to provide clear transparency in this case. "
   ]
  },
  {
   "cell_type": "markdown",
   "metadata": {},
   "source": [
    "## z-score part is after evidence part. \n",
    "\n",
    "## This notebook has evidence analysis for both z-score and non-z-score version. "
   ]
  },
  {
   "cell_type": "markdown",
   "metadata": {},
   "source": [
    "Evidence For the following types of objects, create a section, and print a) the total positive evidence, b) the total negative evidence, c) probability distribution, d) top 3 feature values that contribute most to the positive evidence, e) top 3 feature values that contribute the most to the negative evidence. Print this information on the following object types a. The most positive object with respect to the probabilities. b. The most negative object with respect to the probabilities. c. The object that has the largest positive evidence. d. The object that has the largest (in magnitude) negative evidence. e. The most uncertain object (the probabilities are closest to 0.5)"
   ]
  },
  {
   "cell_type": "code",
   "execution_count": 12,
   "metadata": {
    "collapsed": true
   },
   "outputs": [],
   "source": [
    "y_predict = clf_L2.predict(X_test)\n",
    "\n",
    "y_proba = clf_L2.predict_proba(X_test)"
   ]
  },
  {
   "cell_type": "code",
   "execution_count": 13,
   "metadata": {
    "collapsed": true
   },
   "outputs": [],
   "source": [
    "def get_evidence(clf, x_vector):\n",
    "    \n",
    "    \n",
    "    muliply_v = np.multiply(clf.coef_, x_vector.todense()).A1.tolist()\n",
    "    \n",
    "    muliply_v.append(clf.intercept_[0])\n",
    "    \n",
    "    neg_evi = sum(i for i in muliply_v if i < 0)\n",
    "    pos_evi = sum(i for i in muliply_v if i > 0)\n",
    "    \n",
    "    return muliply_v, neg_evi, pos_evi"
   ]
  },
  {
   "cell_type": "code",
   "execution_count": 14,
   "metadata": {
    "collapsed": false
   },
   "outputs": [],
   "source": [
    "feature_name.append(\"intercept_\")"
   ]
  },
  {
   "cell_type": "code",
   "execution_count": 15,
   "metadata": {
    "collapsed": false
   },
   "outputs": [],
   "source": [
    "neg_evi_list = []\n",
    "pos_evi_list = []\n",
    "vec_matrix = []\n",
    "\n",
    "for v in X_test:\n",
    "    muliply_v, neg_evi, pos_evi = get_evidence(clf_L2, v)\n",
    "    vec_matrix.append(muliply_v)\n",
    "    neg_evi_list.append(neg_evi)\n",
    "    pos_evi_list.append(pos_evi)"
   ]
  },
  {
   "cell_type": "code",
   "execution_count": 16,
   "metadata": {
    "collapsed": true
   },
   "outputs": [],
   "source": [
    "def print_result(idx):\n",
    "    \n",
    "    feature_vector = X_test[idx].todense().A1.tolist()\n",
    "        \n",
    "    feature_vector.append(\"intercept\")\n",
    "    \n",
    "    print(\"The total positive evidence: %f\" %pos_evi_list[idx])\n",
    "    print(\"The total negative evidence: %f\" %neg_evi_list[idx])\n",
    "    print()\n",
    "    print(\"Probability distribution: %s\" %str(y_proba[idx]))\n",
    "    print()\n",
    "    print(\"The top 3 feature values that contribute most to the positive evidence\")\n",
    "    \n",
    "    \n",
    "    vector_evi = vec_matrix[idx]\n",
    "    \n",
    "    top3 = np.argsort(vector_evi)[::-1][:3]\n",
    "    \n",
    "    for i in top3:    \n",
    "        print(\"Feature name: %s \\t\\t value: %s \\t\\t Evidence: %s\" %(feature_name[i], \n",
    "                                                                    str(feature_vector[i]), str(vector_evi[i])))\n",
    "        \n",
    "    print()\n",
    "    print(\"The top 3 feature values that contribute most to the negative evidence\")\n",
    "    \n",
    "    vector_evi = vec_matrix[idx]\n",
    "    top3 = np.argsort(vector_evi)[:3]\n",
    "    \n",
    "    for i in top3:\n",
    "        print(\"Feature name: %s \\t\\t value: %s \\t\\t Evidence: %s\" %(feature_name[i], \n",
    "                                                                    str(feature_vector[i]), str(vector_evi[i])))"
   ]
  },
  {
   "cell_type": "markdown",
   "metadata": {},
   "source": [
    "### The most positive object with respect to the probabilities"
   ]
  },
  {
   "cell_type": "code",
   "execution_count": 17,
   "metadata": {
    "collapsed": false
   },
   "outputs": [
    {
     "name": "stdout",
     "output_type": "stream",
     "text": [
      "The total positive evidence: 70.117648\n",
      "The total negative evidence: -37.974892\n",
      "\n",
      "Probability distribution: [  1.08801856e-14   1.00000000e+00]\n",
      "\n",
      "The top 3 feature values that contribute most to the positive evidence\n",
      "Feature name: excellent \t\t value: 1 \t\t Evidence: 1.5752900428223395\n",
      "Feature name: superb \t\t value: 1 \t\t Evidence: 1.3615758997370768\n",
      "Feature name: funniest \t\t value: 1 \t\t Evidence: 1.2451367544803496\n",
      "\n",
      "The top 3 feature values that contribute most to the negative evidence\n",
      "Feature name: weak \t\t value: 1 \t\t Evidence: -1.1496801356253439\n",
      "Feature name: nothing \t\t value: 1 \t\t Evidence: -0.8679198774645167\n",
      "Feature name: oh \t\t value: 1 \t\t Evidence: -0.8527853715017397\n"
     ]
    }
   ],
   "source": [
    "idx = np.argmax(y_proba[:,1])\n",
    "\n",
    "print_result(idx)"
   ]
  },
  {
   "cell_type": "markdown",
   "metadata": {},
   "source": [
    "### The most negative object with respect to the probabilities"
   ]
  },
  {
   "cell_type": "code",
   "execution_count": 18,
   "metadata": {
    "collapsed": false
   },
   "outputs": [
    {
     "name": "stdout",
     "output_type": "stream",
     "text": [
      "The total positive evidence: 31.928737\n",
      "The total negative evidence: -70.158656\n",
      "\n",
      "Probability distribution: [  1.00000000e+00   2.49434936e-17]\n",
      "\n",
      "The top 3 feature values that contribute most to the positive evidence\n",
      "Feature name: great \t\t value: 1 \t\t Evidence: 0.9481397426833419\n",
      "Feature name: sloth \t\t value: 1 \t\t Evidence: 0.8954054079929598\n",
      "Feature name: magic \t\t value: 1 \t\t Evidence: 0.7594234686918652\n",
      "\n",
      "The top 3 feature values that contribute most to the negative evidence\n",
      "Feature name: worst \t\t value: 1 \t\t Evidence: -2.3361179071304656\n",
      "Feature name: waste \t\t value: 1 \t\t Evidence: -2.2530805821685647\n",
      "Feature name: boring \t\t value: 1 \t\t Evidence: -1.5567809264409675\n"
     ]
    }
   ],
   "source": [
    "idx = np.argmax(y_proba[:,0])\n",
    "\n",
    "print_result(idx)"
   ]
  },
  {
   "cell_type": "markdown",
   "metadata": {},
   "source": [
    "### The object that has the largest positive evidence"
   ]
  },
  {
   "cell_type": "code",
   "execution_count": 19,
   "metadata": {
    "collapsed": false
   },
   "outputs": [
    {
     "name": "stdout",
     "output_type": "stream",
     "text": [
      "The total positive evidence: 102.427957\n",
      "The total negative evidence: -107.793785\n",
      "\n",
      "Probability distribution: [ 0.99534815  0.00465185]\n",
      "\n",
      "The top 3 feature values that contribute most to the positive evidence\n",
      "Feature name: subtle \t\t value: 1 \t\t Evidence: 1.0284732005217354\n",
      "Feature name: today \t\t value: 1 \t\t Evidence: 0.9952226466459334\n",
      "Feature name: disappoint \t\t value: 1 \t\t Evidence: 0.9795682751816203\n",
      "\n",
      "The top 3 feature values that contribute most to the negative evidence\n",
      "Feature name: worst \t\t value: 1 \t\t Evidence: -2.3361179071304656\n",
      "Feature name: poorly \t\t value: 1 \t\t Evidence: -2.0412970501658103\n",
      "Feature name: poor \t\t value: 1 \t\t Evidence: -1.17130350484208\n"
     ]
    }
   ],
   "source": [
    "idx = np.argmax(pos_evi_list)\n",
    "\n",
    "print_result(idx)"
   ]
  },
  {
   "cell_type": "markdown",
   "metadata": {},
   "source": [
    "### The object that has the largest negative evidence"
   ]
  },
  {
   "cell_type": "code",
   "execution_count": 20,
   "metadata": {
    "collapsed": false
   },
   "outputs": [
    {
     "name": "stdout",
     "output_type": "stream",
     "text": [
      "The total positive evidence: 102.427957\n",
      "The total negative evidence: -107.793785\n",
      "\n",
      "Probability distribution: [ 0.99534815  0.00465185]\n",
      "\n",
      "The top 3 feature values that contribute most to the positive evidence\n",
      "Feature name: subtle \t\t value: 1 \t\t Evidence: 1.0284732005217354\n",
      "Feature name: today \t\t value: 1 \t\t Evidence: 0.9952226466459334\n",
      "Feature name: disappoint \t\t value: 1 \t\t Evidence: 0.9795682751816203\n",
      "\n",
      "The top 3 feature values that contribute most to the negative evidence\n",
      "Feature name: worst \t\t value: 1 \t\t Evidence: -2.3361179071304656\n",
      "Feature name: poorly \t\t value: 1 \t\t Evidence: -2.0412970501658103\n",
      "Feature name: poor \t\t value: 1 \t\t Evidence: -1.17130350484208\n"
     ]
    }
   ],
   "source": [
    "idx = np.argmin(neg_evi_list)\n",
    "\n",
    "print_result(idx)"
   ]
  },
  {
   "cell_type": "markdown",
   "metadata": {},
   "source": [
    "### The most uncertain object (the probabilities are closest to 0.5)"
   ]
  },
  {
   "cell_type": "code",
   "execution_count": 21,
   "metadata": {
    "collapsed": false
   },
   "outputs": [
    {
     "name": "stdout",
     "output_type": "stream",
     "text": [
      "The total positive evidence: 5.424793\n",
      "The total negative evidence: -5.426836\n",
      "\n",
      "Probability distribution: [ 0.50051087  0.49948913]\n",
      "\n",
      "The top 3 feature values that contribute most to the positive evidence\n",
      "Feature name: well \t\t value: 1 \t\t Evidence: 0.4926061919757483\n",
      "Feature name: still \t\t value: 1 \t\t Evidence: 0.43818671589876723\n",
      "Feature name: guitar \t\t value: 1 \t\t Evidence: 0.3868267360222904\n",
      "\n",
      "The top 3 feature values that contribute most to the negative evidence\n",
      "Feature name: wasting \t\t value: 1 \t\t Evidence: -0.921351429583922\n",
      "Feature name: stupid \t\t value: 1 \t\t Evidence: -0.8932229987982756\n",
      "Feature name: noise \t\t value: 1 \t\t Evidence: -0.5418344497459429\n"
     ]
    }
   ],
   "source": [
    "uncerts = np.min(y_proba, axis=1)\n",
    "\n",
    "idx = np.argmax(uncerts)\n",
    "\n",
    "print_result(idx)"
   ]
  },
  {
   "cell_type": "markdown",
   "metadata": {
    "collapsed": true
   },
   "source": [
    "### z-score part "
   ]
  },
  {
   "cell_type": "code",
   "execution_count": 24,
   "metadata": {
    "collapsed": false
   },
   "outputs": [
    {
     "name": "stderr",
     "output_type": "stream",
     "text": [
      "C:\\Anaconda3\\lib\\site-packages\\sklearn\\utils\\validation.py:444: DataConversionWarning: Data with input dtype int64 was converted to float64 by StandardScaler.\n",
      "  warnings.warn(msg, DataConversionWarning)\n"
     ]
    }
   ],
   "source": [
    "from sklearn.preprocessing import StandardScaler\n",
    "\n",
    "scaler = StandardScaler()\n",
    "\n",
    "X_train_z = scaler.fit_transform(X_train.todense())\n",
    "\n",
    "X_test_z = scaler.transform(X_test.todense())"
   ]
  },
  {
   "cell_type": "code",
   "execution_count": 25,
   "metadata": {
    "collapsed": false
   },
   "outputs": [
    {
     "name": "stdout",
     "output_type": "stream",
     "text": [
      "index: 26974 \t\t coef: -0.864907 \t\t token_name: worst\n",
      "index: 10644 \t\t coef: 0.660431 \t\t token_name: great\n",
      "index: 1968 \t\t coef: -0.653103 \t\t token_name: bad\n",
      "index: 24279 \t\t coef: -0.612092 \t\t token_name: terrible\n",
      "index: 2966 \t\t coef: -0.568938 \t\t token_name: boring\n",
      "index: 26430 \t\t coef: -0.552023 \t\t token_name: waste\n",
      "index: 8578 \t\t coef: 0.547515 \t\t token_name: excellent\n",
      "index: 1894 \t\t coef: -0.482272 \t\t token_name: awful\n",
      "index: 2483 \t\t coef: 0.453789 \t\t token_name: best\n",
      "index: 26573 \t\t coef: 0.432357 \t\t token_name: well\n"
     ]
    }
   ],
   "source": [
    "# Train on L2 penalty\n",
    "\n",
    "clf_L2 = LogisticRegression(penalty='l2')\n",
    "\n",
    "clf_L2.fit(X_train_z, y_train)\n",
    "\n",
    "coef = clf_L2.coef_[0]\n",
    "\n",
    "coef_abs = np.abs(coef)\n",
    "\n",
    "idx_top10 = np.argsort(coef_abs)[::-1][:10]\n",
    "\n",
    "for idx in idx_top10:\n",
    "    print(\"index: %d \\t\\t coef: %f \\t\\t token_name: %s\" %(idx, coef[idx], feature_name[idx]))"
   ]
  },
  {
   "cell_type": "code",
   "execution_count": 26,
   "metadata": {
    "collapsed": false
   },
   "outputs": [
    {
     "name": "stdout",
     "output_type": "stream",
     "text": [
      "index: 26974 \t\t coef: -1.242064 \t\t token_name: worst\n",
      "index: 1968 \t\t coef: -0.823359 \t\t token_name: bad\n",
      "index: 26430 \t\t coef: -0.823150 \t\t token_name: waste\n",
      "index: 10644 \t\t coef: 0.801687 \t\t token_name: great\n",
      "index: 1894 \t\t coef: -0.760321 \t\t token_name: awful\n",
      "index: 8578 \t\t coef: 0.733636 \t\t token_name: excellent\n",
      "index: 24279 \t\t coef: -0.682644 \t\t token_name: terrible\n",
      "index: 2966 \t\t coef: -0.609449 \t\t token_name: boring\n",
      "index: 18370 \t\t coef: -0.594769 \t\t token_name: poorly\n",
      "index: 2483 \t\t coef: 0.591344 \t\t token_name: best\n"
     ]
    }
   ],
   "source": [
    "# Train on L1 penalty\n",
    "\n",
    "clf_L1 = LogisticRegression(penalty='l1')\n",
    "\n",
    "clf_L1.fit(X_train_z, y_train)\n",
    "\n",
    "coef = clf_L1.coef_[0]\n",
    "\n",
    "coef_abs = np.abs(coef)\n",
    "\n",
    "idx_top10 = np.argsort(coef_abs)[::-1][:10]\n",
    "\n",
    "for idx in idx_top10:\n",
    "    print(\"index: %d \\t\\t coef: %f \\t\\t token_name: %s\" %(idx, coef[idx], feature_name[idx]))"
   ]
  },
  {
   "cell_type": "code",
   "execution_count": 28,
   "metadata": {
    "collapsed": false
   },
   "outputs": [
    {
     "data": {
      "image/svg+xml": [
       "<?xml version=\"1.0\" encoding=\"UTF-8\" standalone=\"no\"?>\r\n",
       "<!DOCTYPE svg PUBLIC \"-//W3C//DTD SVG 1.1//EN\"\r\n",
       " \"http://www.w3.org/Graphics/SVG/1.1/DTD/svg11.dtd\">\r\n",
       "<!-- Generated by graphviz version 2.38.0 (20140413.2041)\r\n",
       " -->\r\n",
       "<!-- Title: Tree Pages: 1 -->\r\n",
       "<svg width=\"719pt\" height=\"790pt\"\r\n",
       " viewBox=\"0.00 0.00 719.00 790.00\" xmlns=\"http://www.w3.org/2000/svg\" xmlns:xlink=\"http://www.w3.org/1999/xlink\">\r\n",
       "<g id=\"graph0\" class=\"graph\" transform=\"scale(1 1) rotate(0) translate(4 786)\">\r\n",
       "<title>Tree</title>\r\n",
       "<polygon fill=\"white\" stroke=\"none\" points=\"-4,4 -4,-786 715,-786 715,4 -4,4\"/>\r\n",
       "<!-- 0 -->\r\n",
       "<g id=\"node1\" class=\"node\"><title>0</title>\r\n",
       "<path fill=\"none\" stroke=\"black\" d=\"M622.5,-782C622.5,-782 483.5,-782 483.5,-782 477.5,-782 471.5,-776 471.5,-770 471.5,-770 471.5,-711 471.5,-711 471.5,-705 477.5,-699 483.5,-699 483.5,-699 622.5,-699 622.5,-699 628.5,-699 634.5,-705 634.5,-711 634.5,-711 634.5,-770 634.5,-770 634.5,-776 628.5,-782 622.5,-782\"/>\r\n",
       "<text text-anchor=\"start\" x=\"515\" y=\"-766.8\" font-family=\"Helvetica,sans-Serif\" font-size=\"14.00\">bad ≤ 0.621</text>\r\n",
       "<text text-anchor=\"start\" x=\"524\" y=\"-751.8\" font-family=\"Helvetica,sans-Serif\" font-size=\"14.00\">gini = 0.5</text>\r\n",
       "<text text-anchor=\"start\" x=\"497\" y=\"-736.8\" font-family=\"Helvetica,sans-Serif\" font-size=\"14.00\">samples = 25000</text>\r\n",
       "<text text-anchor=\"start\" x=\"479.5\" y=\"-721.8\" font-family=\"Helvetica,sans-Serif\" font-size=\"14.00\">value = [12500, 12500]</text>\r\n",
       "<text text-anchor=\"start\" x=\"516.5\" y=\"-706.8\" font-family=\"Helvetica,sans-Serif\" font-size=\"14.00\">class = pos</text>\r\n",
       "</g>\r\n",
       "<!-- 1 -->\r\n",
       "<g id=\"node2\" class=\"node\"><title>1</title>\r\n",
       "<path fill=\"#399de5\" fill-opacity=\"0.262745\" stroke=\"black\" d=\"M534.5,-663C534.5,-663 403.5,-663 403.5,-663 397.5,-663 391.5,-657 391.5,-651 391.5,-651 391.5,-592 391.5,-592 391.5,-586 397.5,-580 403.5,-580 403.5,-580 534.5,-580 534.5,-580 540.5,-580 546.5,-586 546.5,-592 546.5,-592 546.5,-651 546.5,-651 546.5,-657 540.5,-663 534.5,-663\"/>\r\n",
       "<text text-anchor=\"start\" x=\"426\" y=\"-647.8\" font-family=\"Helvetica,sans-Serif\" font-size=\"14.00\">worst ≤ 1.425</text>\r\n",
       "<text text-anchor=\"start\" x=\"431.5\" y=\"-632.8\" font-family=\"Helvetica,sans-Serif\" font-size=\"14.00\">gini = 0.488</text>\r\n",
       "<text text-anchor=\"start\" x=\"413\" y=\"-617.8\" font-family=\"Helvetica,sans-Serif\" font-size=\"14.00\">samples = 19096</text>\r\n",
       "<text text-anchor=\"start\" x=\"399.5\" y=\"-602.8\" font-family=\"Helvetica,sans-Serif\" font-size=\"14.00\">value = [8094, 11002]</text>\r\n",
       "<text text-anchor=\"start\" x=\"432.5\" y=\"-587.8\" font-family=\"Helvetica,sans-Serif\" font-size=\"14.00\">class = neg</text>\r\n",
       "</g>\r\n",
       "<!-- 0&#45;&gt;1 -->\r\n",
       "<g id=\"edge1\" class=\"edge\"><title>0&#45;&gt;1</title>\r\n",
       "<path fill=\"none\" stroke=\"black\" d=\"M523.857,-698.907C517.471,-690.014 510.648,-680.509 504.058,-671.331\"/>\r\n",
       "<polygon fill=\"black\" stroke=\"black\" points=\"506.767,-669.103 498.092,-663.021 501.081,-673.185 506.767,-669.103\"/>\r\n",
       "<text text-anchor=\"middle\" x=\"494.042\" y=\"-683.991\" font-family=\"Helvetica,sans-Serif\" font-size=\"14.00\">True</text>\r\n",
       "</g>\r\n",
       "<!-- 12 -->\r\n",
       "<g id=\"node13\" class=\"node\"><title>12</title>\r\n",
       "<path fill=\"#e58139\" fill-opacity=\"0.658824\" stroke=\"black\" d=\"M699,-655.5C699,-655.5 577,-655.5 577,-655.5 571,-655.5 565,-649.5 565,-643.5 565,-643.5 565,-599.5 565,-599.5 565,-593.5 571,-587.5 577,-587.5 577,-587.5 699,-587.5 699,-587.5 705,-587.5 711,-593.5 711,-599.5 711,-599.5 711,-643.5 711,-643.5 711,-649.5 705,-655.5 699,-655.5\"/>\r\n",
       "<text text-anchor=\"start\" x=\"600.5\" y=\"-640.3\" font-family=\"Helvetica,sans-Serif\" font-size=\"14.00\">gini = 0.379</text>\r\n",
       "<text text-anchor=\"start\" x=\"586.5\" y=\"-625.3\" font-family=\"Helvetica,sans-Serif\" font-size=\"14.00\">samples = 5904</text>\r\n",
       "<text text-anchor=\"start\" x=\"573\" y=\"-610.3\" font-family=\"Helvetica,sans-Serif\" font-size=\"14.00\">value = [4406, 1498]</text>\r\n",
       "<text text-anchor=\"start\" x=\"601.5\" y=\"-595.3\" font-family=\"Helvetica,sans-Serif\" font-size=\"14.00\">class = pos</text>\r\n",
       "</g>\r\n",
       "<!-- 0&#45;&gt;12 -->\r\n",
       "<g id=\"edge12\" class=\"edge\"><title>0&#45;&gt;12</title>\r\n",
       "<path fill=\"none\" stroke=\"black\" d=\"M582.49,-698.907C590.747,-687.542 599.729,-675.178 608.015,-663.774\"/>\r\n",
       "<polygon fill=\"black\" stroke=\"black\" points=\"610.858,-665.814 613.904,-655.667 605.195,-661.7 610.858,-665.814\"/>\r\n",
       "<text text-anchor=\"middle\" x=\"617.816\" y=\"-676.659\" font-family=\"Helvetica,sans-Serif\" font-size=\"14.00\">False</text>\r\n",
       "</g>\r\n",
       "<!-- 2 -->\r\n",
       "<g id=\"node3\" class=\"node\"><title>2</title>\r\n",
       "<path fill=\"#399de5\" fill-opacity=\"0.349020\" stroke=\"black\" d=\"M452.5,-544C452.5,-544 321.5,-544 321.5,-544 315.5,-544 309.5,-538 309.5,-532 309.5,-532 309.5,-473 309.5,-473 309.5,-467 315.5,-461 321.5,-461 321.5,-461 452.5,-461 452.5,-461 458.5,-461 464.5,-467 464.5,-473 464.5,-473 464.5,-532 464.5,-532 464.5,-538 458.5,-544 452.5,-544\"/>\r\n",
       "<text text-anchor=\"start\" x=\"342.5\" y=\"-528.8\" font-family=\"Helvetica,sans-Serif\" font-size=\"14.00\">waste ≤ 2.014</text>\r\n",
       "<text text-anchor=\"start\" x=\"349.5\" y=\"-513.8\" font-family=\"Helvetica,sans-Serif\" font-size=\"14.00\">gini = 0.477</text>\r\n",
       "<text text-anchor=\"start\" x=\"331\" y=\"-498.8\" font-family=\"Helvetica,sans-Serif\" font-size=\"14.00\">samples = 17866</text>\r\n",
       "<text text-anchor=\"start\" x=\"317.5\" y=\"-483.8\" font-family=\"Helvetica,sans-Serif\" font-size=\"14.00\">value = [7032, 10834]</text>\r\n",
       "<text text-anchor=\"start\" x=\"350.5\" y=\"-468.8\" font-family=\"Helvetica,sans-Serif\" font-size=\"14.00\">class = neg</text>\r\n",
       "</g>\r\n",
       "<!-- 1&#45;&gt;2 -->\r\n",
       "<g id=\"edge2\" class=\"edge\"><title>1&#45;&gt;2</title>\r\n",
       "<path fill=\"none\" stroke=\"black\" d=\"M440.551,-579.907C434.317,-571.014 427.656,-561.509 421.223,-552.331\"/>\r\n",
       "<polygon fill=\"black\" stroke=\"black\" points=\"424.005,-550.201 415.399,-544.021 418.272,-554.219 424.005,-550.201\"/>\r\n",
       "</g>\r\n",
       "<!-- 11 -->\r\n",
       "<g id=\"node12\" class=\"node\"><title>11</title>\r\n",
       "<path fill=\"#e58139\" fill-opacity=\"0.843137\" stroke=\"black\" d=\"M609,-536.5C609,-536.5 495,-536.5 495,-536.5 489,-536.5 483,-530.5 483,-524.5 483,-524.5 483,-480.5 483,-480.5 483,-474.5 489,-468.5 495,-468.5 495,-468.5 609,-468.5 609,-468.5 615,-468.5 621,-474.5 621,-480.5 621,-480.5 621,-524.5 621,-524.5 621,-530.5 615,-536.5 609,-536.5\"/>\r\n",
       "<text text-anchor=\"start\" x=\"514.5\" y=\"-521.3\" font-family=\"Helvetica,sans-Serif\" font-size=\"14.00\">gini = 0.236</text>\r\n",
       "<text text-anchor=\"start\" x=\"500.5\" y=\"-506.3\" font-family=\"Helvetica,sans-Serif\" font-size=\"14.00\">samples = 1230</text>\r\n",
       "<text text-anchor=\"start\" x=\"491\" y=\"-491.3\" font-family=\"Helvetica,sans-Serif\" font-size=\"14.00\">value = [1062, 168]</text>\r\n",
       "<text text-anchor=\"start\" x=\"515.5\" y=\"-476.3\" font-family=\"Helvetica,sans-Serif\" font-size=\"14.00\">class = pos</text>\r\n",
       "</g>\r\n",
       "<!-- 1&#45;&gt;11 -->\r\n",
       "<g id=\"edge11\" class=\"edge\"><title>1&#45;&gt;11</title>\r\n",
       "<path fill=\"none\" stroke=\"black\" d=\"M497.796,-579.907C505.781,-568.652 514.46,-556.418 522.484,-545.106\"/>\r\n",
       "<polygon fill=\"black\" stroke=\"black\" points=\"525.54,-546.848 528.471,-536.667 519.831,-542.798 525.54,-546.848\"/>\r\n",
       "</g>\r\n",
       "<!-- 3 -->\r\n",
       "<g id=\"node4\" class=\"node\"><title>3</title>\r\n",
       "<path fill=\"#399de5\" fill-opacity=\"0.400000\" stroke=\"black\" d=\"M374.5,-425C374.5,-425 243.5,-425 243.5,-425 237.5,-425 231.5,-419 231.5,-413 231.5,-413 231.5,-354 231.5,-354 231.5,-348 237.5,-342 243.5,-342 243.5,-342 374.5,-342 374.5,-342 380.5,-342 386.5,-348 386.5,-354 386.5,-354 386.5,-413 386.5,-413 386.5,-419 380.5,-425 374.5,-425\"/>\r\n",
       "<text text-anchor=\"start\" x=\"271\" y=\"-409.8\" font-family=\"Helvetica,sans-Serif\" font-size=\"14.00\">great ≤ 0.57</text>\r\n",
       "<text text-anchor=\"start\" x=\"271.5\" y=\"-394.8\" font-family=\"Helvetica,sans-Serif\" font-size=\"14.00\">gini = 0.468</text>\r\n",
       "<text text-anchor=\"start\" x=\"253\" y=\"-379.8\" font-family=\"Helvetica,sans-Serif\" font-size=\"14.00\">samples = 17203</text>\r\n",
       "<text text-anchor=\"start\" x=\"239.5\" y=\"-364.8\" font-family=\"Helvetica,sans-Serif\" font-size=\"14.00\">value = [6438, 10765]</text>\r\n",
       "<text text-anchor=\"start\" x=\"272.5\" y=\"-349.8\" font-family=\"Helvetica,sans-Serif\" font-size=\"14.00\">class = neg</text>\r\n",
       "</g>\r\n",
       "<!-- 2&#45;&gt;3 -->\r\n",
       "<g id=\"edge3\" class=\"edge\"><title>2&#45;&gt;3</title>\r\n",
       "<path fill=\"none\" stroke=\"black\" d=\"M359.938,-460.907C354.07,-452.105 347.802,-442.703 341.741,-433.612\"/>\r\n",
       "<polygon fill=\"black\" stroke=\"black\" points=\"344.473,-431.4 336.014,-425.021 338.649,-435.283 344.473,-431.4\"/>\r\n",
       "</g>\r\n",
       "<!-- 10 -->\r\n",
       "<g id=\"node11\" class=\"node\"><title>10</title>\r\n",
       "<path fill=\"#e58139\" fill-opacity=\"0.882353\" stroke=\"black\" d=\"M515,-417.5C515,-417.5 417,-417.5 417,-417.5 411,-417.5 405,-411.5 405,-405.5 405,-405.5 405,-361.5 405,-361.5 405,-355.5 411,-349.5 417,-349.5 417,-349.5 515,-349.5 515,-349.5 521,-349.5 527,-355.5 527,-361.5 527,-361.5 527,-405.5 527,-405.5 527,-411.5 521,-417.5 515,-417.5\"/>\r\n",
       "<text text-anchor=\"start\" x=\"428.5\" y=\"-402.3\" font-family=\"Helvetica,sans-Serif\" font-size=\"14.00\">gini = 0.186</text>\r\n",
       "<text text-anchor=\"start\" x=\"418.5\" y=\"-387.3\" font-family=\"Helvetica,sans-Serif\" font-size=\"14.00\">samples = 663</text>\r\n",
       "<text text-anchor=\"start\" x=\"413\" y=\"-372.3\" font-family=\"Helvetica,sans-Serif\" font-size=\"14.00\">value = [594, 69]</text>\r\n",
       "<text text-anchor=\"start\" x=\"429.5\" y=\"-357.3\" font-family=\"Helvetica,sans-Serif\" font-size=\"14.00\">class = pos</text>\r\n",
       "</g>\r\n",
       "<!-- 2&#45;&gt;10 -->\r\n",
       "<g id=\"edge10\" class=\"edge\"><title>2&#45;&gt;10</title>\r\n",
       "<path fill=\"none\" stroke=\"black\" d=\"M414.409,-460.907C422.008,-449.652 430.269,-437.418 437.907,-426.106\"/>\r\n",
       "<polygon fill=\"black\" stroke=\"black\" points=\"440.91,-427.913 443.605,-417.667 435.109,-423.996 440.91,-427.913\"/>\r\n",
       "</g>\r\n",
       "<!-- 4 -->\r\n",
       "<g id=\"node5\" class=\"node\"><title>4</title>\r\n",
       "<path fill=\"#399de5\" fill-opacity=\"0.254902\" stroke=\"black\" d=\"M288,-306C288,-306 166,-306 166,-306 160,-306 154,-300 154,-294 154,-294 154,-235 154,-235 154,-229 160,-223 166,-223 166,-223 288,-223 288,-223 294,-223 300,-229 300,-235 300,-235 300,-294 300,-294 300,-300 294,-306 288,-306\"/>\r\n",
       "<text text-anchor=\"start\" x=\"184.5\" y=\"-290.8\" font-family=\"Helvetica,sans-Serif\" font-size=\"14.00\">awful ≤ 1.895</text>\r\n",
       "<text text-anchor=\"start\" x=\"189.5\" y=\"-275.8\" font-family=\"Helvetica,sans-Serif\" font-size=\"14.00\">gini = 0.489</text>\r\n",
       "<text text-anchor=\"start\" x=\"171\" y=\"-260.8\" font-family=\"Helvetica,sans-Serif\" font-size=\"14.00\">samples = 12591</text>\r\n",
       "<text text-anchor=\"start\" x=\"162\" y=\"-245.8\" font-family=\"Helvetica,sans-Serif\" font-size=\"14.00\">value = [5372, 7219]</text>\r\n",
       "<text text-anchor=\"start\" x=\"190.5\" y=\"-230.8\" font-family=\"Helvetica,sans-Serif\" font-size=\"14.00\">class = neg</text>\r\n",
       "</g>\r\n",
       "<!-- 3&#45;&gt;4 -->\r\n",
       "<g id=\"edge4\" class=\"edge\"><title>3&#45;&gt;4</title>\r\n",
       "<path fill=\"none\" stroke=\"black\" d=\"M280.551,-341.907C274.317,-333.014 267.656,-323.509 261.223,-314.331\"/>\r\n",
       "<polygon fill=\"black\" stroke=\"black\" points=\"264.005,-312.201 255.399,-306.021 258.272,-316.219 264.005,-312.201\"/>\r\n",
       "</g>\r\n",
       "<!-- 9 -->\r\n",
       "<g id=\"node10\" class=\"node\"><title>9</title>\r\n",
       "<path fill=\"#399de5\" fill-opacity=\"0.698039\" stroke=\"black\" d=\"M452,-298.5C452,-298.5 330,-298.5 330,-298.5 324,-298.5 318,-292.5 318,-286.5 318,-286.5 318,-242.5 318,-242.5 318,-236.5 324,-230.5 330,-230.5 330,-230.5 452,-230.5 452,-230.5 458,-230.5 464,-236.5 464,-242.5 464,-242.5 464,-286.5 464,-286.5 464,-292.5 458,-298.5 452,-298.5\"/>\r\n",
       "<text text-anchor=\"start\" x=\"353.5\" y=\"-283.3\" font-family=\"Helvetica,sans-Serif\" font-size=\"14.00\">gini = 0.355</text>\r\n",
       "<text text-anchor=\"start\" x=\"339.5\" y=\"-268.3\" font-family=\"Helvetica,sans-Serif\" font-size=\"14.00\">samples = 4612</text>\r\n",
       "<text text-anchor=\"start\" x=\"326\" y=\"-253.3\" font-family=\"Helvetica,sans-Serif\" font-size=\"14.00\">value = [1066, 3546]</text>\r\n",
       "<text text-anchor=\"start\" x=\"354.5\" y=\"-238.3\" font-family=\"Helvetica,sans-Serif\" font-size=\"14.00\">class = neg</text>\r\n",
       "</g>\r\n",
       "<!-- 3&#45;&gt;9 -->\r\n",
       "<g id=\"edge9\" class=\"edge\"><title>3&#45;&gt;9</title>\r\n",
       "<path fill=\"none\" stroke=\"black\" d=\"M337.449,-341.907C345.338,-330.652 353.912,-318.418 361.84,-307.106\"/>\r\n",
       "<polygon fill=\"black\" stroke=\"black\" points=\"364.882,-308.865 367.755,-298.667 359.149,-304.847 364.882,-308.865\"/>\r\n",
       "</g>\r\n",
       "<!-- 5 -->\r\n",
       "<g id=\"node6\" class=\"node\"><title>5</title>\r\n",
       "<path fill=\"#399de5\" fill-opacity=\"0.305882\" stroke=\"black\" d=\"M212,-187C212,-187 90,-187 90,-187 84,-187 78,-181 78,-175 78,-175 78,-116 78,-116 78,-110 84,-104 90,-104 90,-104 212,-104 212,-104 218,-104 224,-110 224,-116 224,-116 224,-175 224,-175 224,-181 218,-187 212,-187\"/>\r\n",
       "<text text-anchor=\"start\" x=\"105\" y=\"-171.8\" font-family=\"Helvetica,sans-Serif\" font-size=\"14.00\">boring ≤ 1.846</text>\r\n",
       "<text text-anchor=\"start\" x=\"113.5\" y=\"-156.8\" font-family=\"Helvetica,sans-Serif\" font-size=\"14.00\">gini = 0.484</text>\r\n",
       "<text text-anchor=\"start\" x=\"95\" y=\"-141.8\" font-family=\"Helvetica,sans-Serif\" font-size=\"14.00\">samples = 12126</text>\r\n",
       "<text text-anchor=\"start\" x=\"86\" y=\"-126.8\" font-family=\"Helvetica,sans-Serif\" font-size=\"14.00\">value = [4972, 7154]</text>\r\n",
       "<text text-anchor=\"start\" x=\"114.5\" y=\"-111.8\" font-family=\"Helvetica,sans-Serif\" font-size=\"14.00\">class = neg</text>\r\n",
       "</g>\r\n",
       "<!-- 4&#45;&gt;5 -->\r\n",
       "<g id=\"edge5\" class=\"edge\"><title>4&#45;&gt;5</title>\r\n",
       "<path fill=\"none\" stroke=\"black\" d=\"M200.632,-222.907C194.914,-214.105 188.807,-204.703 182.902,-195.612\"/>\r\n",
       "<polygon fill=\"black\" stroke=\"black\" points=\"185.704,-193.5 177.321,-187.021 179.833,-197.313 185.704,-193.5\"/>\r\n",
       "</g>\r\n",
       "<!-- 8 -->\r\n",
       "<g id=\"node9\" class=\"node\"><title>8</title>\r\n",
       "<path fill=\"#e58139\" fill-opacity=\"0.839216\" stroke=\"black\" d=\"M352,-179.5C352,-179.5 254,-179.5 254,-179.5 248,-179.5 242,-173.5 242,-167.5 242,-167.5 242,-123.5 242,-123.5 242,-117.5 248,-111.5 254,-111.5 254,-111.5 352,-111.5 352,-111.5 358,-111.5 364,-117.5 364,-123.5 364,-123.5 364,-167.5 364,-167.5 364,-173.5 358,-179.5 352,-179.5\"/>\r\n",
       "<text text-anchor=\"start\" x=\"269.5\" y=\"-164.3\" font-family=\"Helvetica,sans-Serif\" font-size=\"14.00\">gini = 0.24</text>\r\n",
       "<text text-anchor=\"start\" x=\"255.5\" y=\"-149.3\" font-family=\"Helvetica,sans-Serif\" font-size=\"14.00\">samples = 465</text>\r\n",
       "<text text-anchor=\"start\" x=\"250\" y=\"-134.3\" font-family=\"Helvetica,sans-Serif\" font-size=\"14.00\">value = [400, 65]</text>\r\n",
       "<text text-anchor=\"start\" x=\"266.5\" y=\"-119.3\" font-family=\"Helvetica,sans-Serif\" font-size=\"14.00\">class = pos</text>\r\n",
       "</g>\r\n",
       "<!-- 4&#45;&gt;8 -->\r\n",
       "<g id=\"edge8\" class=\"edge\"><title>4&#45;&gt;8</title>\r\n",
       "<path fill=\"none\" stroke=\"black\" d=\"M253.368,-222.907C260.679,-211.652 268.626,-199.418 275.974,-188.106\"/>\r\n",
       "<polygon fill=\"black\" stroke=\"black\" points=\"278.943,-189.96 281.456,-179.667 273.073,-186.146 278.943,-189.96\"/>\r\n",
       "</g>\r\n",
       "<!-- 6 -->\r\n",
       "<g id=\"node7\" class=\"node\"><title>6</title>\r\n",
       "<path fill=\"#399de5\" fill-opacity=\"0.352941\" stroke=\"black\" d=\"M134,-68C134,-68 12,-68 12,-68 6,-68 0,-62 0,-56 0,-56 0,-12 0,-12 0,-6 6,-0 12,-0 12,-0 134,-0 134,-0 140,-0 146,-6 146,-12 146,-12 146,-56 146,-56 146,-62 140,-68 134,-68\"/>\r\n",
       "<text text-anchor=\"start\" x=\"35.5\" y=\"-52.8\" font-family=\"Helvetica,sans-Serif\" font-size=\"14.00\">gini = 0.477</text>\r\n",
       "<text text-anchor=\"start\" x=\"17\" y=\"-37.8\" font-family=\"Helvetica,sans-Serif\" font-size=\"14.00\">samples = 11549</text>\r\n",
       "<text text-anchor=\"start\" x=\"8\" y=\"-22.8\" font-family=\"Helvetica,sans-Serif\" font-size=\"14.00\">value = [4544, 7005]</text>\r\n",
       "<text text-anchor=\"start\" x=\"36.5\" y=\"-7.8\" font-family=\"Helvetica,sans-Serif\" font-size=\"14.00\">class = neg</text>\r\n",
       "</g>\r\n",
       "<!-- 5&#45;&gt;6 -->\r\n",
       "<g id=\"edge6\" class=\"edge\"><title>5&#45;&gt;6</title>\r\n",
       "<path fill=\"none\" stroke=\"black\" d=\"M121.956,-103.726C115.654,-94.879 108.98,-85.51 102.654,-76.6303\"/>\r\n",
       "<polygon fill=\"black\" stroke=\"black\" points=\"105.373,-74.4138 96.7203,-68.2996 99.6714,-78.4751 105.373,-74.4138\"/>\r\n",
       "</g>\r\n",
       "<!-- 7 -->\r\n",
       "<g id=\"node8\" class=\"node\"><title>7</title>\r\n",
       "<path fill=\"#e58139\" fill-opacity=\"0.650980\" stroke=\"black\" d=\"M282,-68C282,-68 176,-68 176,-68 170,-68 164,-62 164,-56 164,-56 164,-12 164,-12 164,-6 170,-0 176,-0 176,-0 282,-0 282,-0 288,-0 294,-6 294,-12 294,-12 294,-56 294,-56 294,-62 288,-68 282,-68\"/>\r\n",
       "<text text-anchor=\"start\" x=\"191.5\" y=\"-52.8\" font-family=\"Helvetica,sans-Serif\" font-size=\"14.00\">gini = 0.383</text>\r\n",
       "<text text-anchor=\"start\" x=\"181.5\" y=\"-37.8\" font-family=\"Helvetica,sans-Serif\" font-size=\"14.00\">samples = 577</text>\r\n",
       "<text text-anchor=\"start\" x=\"172\" y=\"-22.8\" font-family=\"Helvetica,sans-Serif\" font-size=\"14.00\">value = [428, 149]</text>\r\n",
       "<text text-anchor=\"start\" x=\"192.5\" y=\"-7.8\" font-family=\"Helvetica,sans-Serif\" font-size=\"14.00\">class = pos</text>\r\n",
       "</g>\r\n",
       "<!-- 5&#45;&gt;7 -->\r\n",
       "<g id=\"edge7\" class=\"edge\"><title>5&#45;&gt;7</title>\r\n",
       "<path fill=\"none\" stroke=\"black\" d=\"M180.044,-103.726C186.346,-94.879 193.02,-85.51 199.346,-76.6303\"/>\r\n",
       "<polygon fill=\"black\" stroke=\"black\" points=\"202.329,-78.4751 205.28,-68.2996 196.627,-74.4138 202.329,-78.4751\"/>\r\n",
       "</g>\r\n",
       "</g>\r\n",
       "</svg>\r\n"
      ],
      "text/plain": [
       "<graphviz.files.Source at 0x2281a2cea58>"
      ]
     },
     "execution_count": 28,
     "metadata": {},
     "output_type": "execute_result"
    }
   ],
   "source": [
    "# Train on decision tree\n",
    "\n",
    "clf_DT = DecisionTreeClassifier(max_depth=6, min_impurity_decrease=0.005)\n",
    "clf_DT.fit(X_train_z, y_train)\n",
    "\n",
    "graph = plot_DT(clf_DT, feature_name[:-1], ['pos', 'neg'])\n",
    "\n",
    "graph"
   ]
  },
  {
   "cell_type": "markdown",
   "metadata": {},
   "source": [
    "### Discussion\n",
    "\n",
    "It's obvious that after z-score scaling the data, the L1-lr, L2-lr and DT are pretty similar right now. The top features are almost same in this case. Comparing with non-z-score data, the weights of logistic regression is smaller right now. "
   ]
  },
  {
   "cell_type": "markdown",
   "metadata": {},
   "source": [
    "Evidence For the following types of objects, create a section, and print a) the total positive evidence, b) the total negative evidence, c) probability distribution, d) top 3 feature values that contribute most to the positive evidence, e) top 3 feature values that contribute the most to the negative evidence. Print this information on the following object types a. The most positive object with respect to the probabilities. b. The most negative object with respect to the probabilities. c. The object that has the largest positive evidence. d. The object that has the largest (in magnitude) negative evidence. e. The most uncertain object (the probabilities are closest to 0.5)"
   ]
  },
  {
   "cell_type": "code",
   "execution_count": 30,
   "metadata": {
    "collapsed": false
   },
   "outputs": [],
   "source": [
    "y_predict = clf_L2.predict(X_test_z)\n",
    "\n",
    "y_proba = clf_L2.predict_proba(X_test_z)"
   ]
  },
  {
   "cell_type": "code",
   "execution_count": 34,
   "metadata": {
    "collapsed": true
   },
   "outputs": [],
   "source": [
    "from scipy import sparse\n",
    "\n",
    "def get_evidence(clf, x_vector):\n",
    "    \n",
    "    x_vector = sparse.csr_matrix(x_vector)\n",
    "    \n",
    "    muliply_v = np.multiply(clf.coef_, x_vector.todense()).A1.tolist()\n",
    "    \n",
    "    muliply_v.append(clf.intercept_[0])\n",
    "    \n",
    "    neg_evi = sum(i for i in muliply_v if i < 0)\n",
    "    pos_evi = sum(i for i in muliply_v if i > 0)\n",
    "    \n",
    "    return muliply_v, neg_evi, pos_evi"
   ]
  },
  {
   "cell_type": "code",
   "execution_count": 35,
   "metadata": {
    "collapsed": false
   },
   "outputs": [],
   "source": [
    "neg_evi_list = []\n",
    "pos_evi_list = []\n",
    "vec_matrix = []\n",
    "\n",
    "for v in X_test_z:\n",
    "    muliply_v, neg_evi, pos_evi = get_evidence(clf_L2, v)\n",
    "    vec_matrix.append(muliply_v)\n",
    "    neg_evi_list.append(neg_evi)\n",
    "    pos_evi_list.append(pos_evi)"
   ]
  },
  {
   "cell_type": "markdown",
   "metadata": {},
   "source": [
    "#### The most positive object with respect to the probabilities"
   ]
  },
  {
   "cell_type": "code",
   "execution_count": 36,
   "metadata": {
    "collapsed": false
   },
   "outputs": [
    {
     "name": "stdout",
     "output_type": "stream",
     "text": [
      "The total positive evidence: 122.449271\n",
      "The total negative evidence: -68.251302\n",
      "\n",
      "Probability distribution: [ 0.  1.]\n",
      "\n",
      "The top 3 feature values that contribute most to the positive evidence\n",
      "Feature name: heals \t\t value: 1 \t\t Evidence: 4.59917265189667\n",
      "Feature name: draft \t\t value: 1 \t\t Evidence: 2.966493042912529\n",
      "Feature name: turbulent \t\t value: 1 \t\t Evidence: 2.6672211747628705\n",
      "\n",
      "The top 3 feature values that contribute most to the negative evidence\n",
      "Feature name: 1954 \t\t value: 1 \t\t Evidence: -2.3360668255869785\n",
      "Feature name: substituted \t\t value: 1 \t\t Evidence: -1.9722583935774807\n",
      "Feature name: stereo \t\t value: 1 \t\t Evidence: -1.4710823505593238\n"
     ]
    }
   ],
   "source": [
    "idx = np.argmax(y_proba[:,1])\n",
    "\n",
    "print_result(idx)"
   ]
  },
  {
   "cell_type": "markdown",
   "metadata": {},
   "source": [
    "#### The most negative object with respect to the probabilities"
   ]
  },
  {
   "cell_type": "code",
   "execution_count": 37,
   "metadata": {
    "collapsed": false
   },
   "outputs": [
    {
     "name": "stdout",
     "output_type": "stream",
     "text": [
      "The total positive evidence: 77.528892\n",
      "The total negative evidence: -122.411691\n",
      "\n",
      "Probability distribution: [  1.00000000e+00   3.21846033e-20]\n",
      "\n",
      "The top 3 feature values that contribute most to the positive evidence\n",
      "Feature name: rehashes \t\t value: 1 \t\t Evidence: 2.4267915164429565\n",
      "Feature name: substantive \t\t value: 1 \t\t Evidence: 2.238729770841941\n",
      "Feature name: spared \t\t value: 1 \t\t Evidence: 1.7430331887136576\n",
      "\n",
      "The top 3 feature values that contribute most to the negative evidence\n",
      "Feature name: plagiarized \t\t value: 1 \t\t Evidence: -5.56237557750728\n",
      "Feature name: critters \t\t value: 1 \t\t Evidence: -3.915359674107001\n",
      "Feature name: sliver \t\t value: 1 \t\t Evidence: -3.750672698046096\n"
     ]
    }
   ],
   "source": [
    "idx = np.argmax(y_proba[:,0])\n",
    "\n",
    "print_result(idx)"
   ]
  },
  {
   "cell_type": "markdown",
   "metadata": {},
   "source": [
    "#### The object that has the largest positive evidence"
   ]
  },
  {
   "cell_type": "code",
   "execution_count": 38,
   "metadata": {
    "collapsed": false
   },
   "outputs": [
    {
     "name": "stdout",
     "output_type": "stream",
     "text": [
      "The total positive evidence: 282.088605\n",
      "The total negative evidence: -253.331882\n",
      "\n",
      "Probability distribution: [  3.24407168e-13   1.00000000e+00]\n",
      "\n",
      "The top 3 feature values that contribute most to the positive evidence\n",
      "Feature name: beckett \t\t value: 1 \t\t Evidence: 8.608982577569904\n",
      "Feature name: ailing \t\t value: 1 \t\t Evidence: 4.717527146269021\n",
      "Feature name: expires \t\t value: 1 \t\t Evidence: 4.051625968245307\n",
      "\n",
      "The top 3 feature values that contribute most to the negative evidence\n",
      "Feature name: innocently \t\t value: 1 \t\t Evidence: -3.100010643882983\n",
      "Feature name: encyclopedia \t\t value: 1 \t\t Evidence: -3.00048900632593\n",
      "Feature name: mirrored \t\t value: 1 \t\t Evidence: -2.8160861867355584\n"
     ]
    }
   ],
   "source": [
    "idx = np.argmax(pos_evi_list)\n",
    "\n",
    "print_result(idx)"
   ]
  },
  {
   "cell_type": "markdown",
   "metadata": {},
   "source": [
    "#### The object that has the largest negative evidence"
   ]
  },
  {
   "cell_type": "code",
   "execution_count": 40,
   "metadata": {
    "collapsed": false
   },
   "outputs": [
    {
     "name": "stdout",
     "output_type": "stream",
     "text": [
      "The total positive evidence: 282.088605\n",
      "The total negative evidence: -253.331882\n",
      "\n",
      "Probability distribution: [  3.24407168e-13   1.00000000e+00]\n",
      "\n",
      "The top 3 feature values that contribute most to the positive evidence\n",
      "Feature name: beckett \t\t value: 1 \t\t Evidence: 8.608982577569904\n",
      "Feature name: ailing \t\t value: 1 \t\t Evidence: 4.717527146269021\n",
      "Feature name: expires \t\t value: 1 \t\t Evidence: 4.051625968245307\n",
      "\n",
      "The top 3 feature values that contribute most to the negative evidence\n",
      "Feature name: innocently \t\t value: 1 \t\t Evidence: -3.100010643882983\n",
      "Feature name: encyclopedia \t\t value: 1 \t\t Evidence: -3.00048900632593\n",
      "Feature name: mirrored \t\t value: 1 \t\t Evidence: -2.8160861867355584\n"
     ]
    }
   ],
   "source": [
    "idx = np.argmin(neg_evi_list)\n",
    "\n",
    "print_result(idx)"
   ]
  },
  {
   "cell_type": "markdown",
   "metadata": {},
   "source": [
    "#### The most uncertain object (the probabilities are closest to 0.5)"
   ]
  },
  {
   "cell_type": "code",
   "execution_count": 41,
   "metadata": {
    "collapsed": false
   },
   "outputs": [
    {
     "name": "stdout",
     "output_type": "stream",
     "text": [
      "The total positive evidence: 43.817535\n",
      "The total negative evidence: -43.816036\n",
      "\n",
      "Probability distribution: [ 0.49962509  0.50037491]\n",
      "\n",
      "The top 3 feature values that contribute most to the positive evidence\n",
      "Feature name: taps \t\t value: 1 \t\t Evidence: 2.932029804137935\n",
      "Feature name: excellent \t\t value: 1 \t\t Evidence: 1.9775026292239941\n",
      "Feature name: gratifying \t\t value: 1 \t\t Evidence: 1.3957867777193886\n",
      "\n",
      "The top 3 feature values that contribute most to the negative evidence\n",
      "Feature name: winston \t\t value: 1 \t\t Evidence: -2.79535624784082\n",
      "Feature name: dolby \t\t value: 1 \t\t Evidence: -1.8755984718459628\n",
      "Feature name: unfortunately \t\t value: 1 \t\t Evidence: -1.1287784936516574\n"
     ]
    }
   ],
   "source": [
    "uncerts = np.min(y_proba, axis=1)\n",
    "\n",
    "idx = np.argmax(uncerts)\n",
    "\n",
    "print_result(idx)"
   ]
  }
 ],
 "metadata": {
  "anaconda-cloud": {},
  "kernelspec": {
   "display_name": "Python [conda root]",
   "language": "python",
   "name": "conda-root-py"
  },
  "language_info": {
   "codemirror_mode": {
    "name": "ipython",
    "version": 3
   },
   "file_extension": ".py",
   "mimetype": "text/x-python",
   "name": "python",
   "nbconvert_exporter": "python",
   "pygments_lexer": "ipython3",
   "version": "3.5.2"
  }
 },
 "nbformat": 4,
 "nbformat_minor": 1
}
